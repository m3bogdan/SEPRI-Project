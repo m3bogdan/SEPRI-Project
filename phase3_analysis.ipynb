{
 "cells": [
  {
   "cell_type": "markdown",
   "metadata": {},
   "source": [
    "### Step 3: \n",
    "\n",
    "Conduct the same analyses as in Step 1, but this time on the anonymised dataset. Note the differences in the analysisoutcome compared to the analyses you have performed on raw dataset. If the differences are too large (according to your own evaluation), return to Step 2 and redo the anonymisation."
   ]
  },
  {
   "cell_type": "code",
   "execution_count": 1,
   "metadata": {},
   "outputs": [],
   "source": [
    "import pandas as pd\n",
    "from scipy.stats import chisquare\n",
    "import numpy as np \n",
    "from statsmodels.stats.proportion import proportions_ztest\n",
    "from scipy.stats import chi2_contingency\n",
    "import statsmodels.api as sm\n",
    "import matplotlib.pyplot as plt\n",
    "from functions import two_sample_z_test, chi2"
   ]
  },
  {
   "cell_type": "code",
   "execution_count": 2,
   "metadata": {},
   "outputs": [],
   "source": [
    "# Data prep\n",
    "anon_data = pd.read_excel(\"anon_data_global_recoding.xlsx\")\n",
    "\n",
    "#prep data for z test\n",
    "anon_counts = anon_data.groupby([\"evote\", \"party\"]).size().unstack(fill_value=0).reset_index()\n",
    "anon_counts[\"total\"]= anon_counts[['Green', 'Red', \"Invalid vote\"]].sum(axis=1)"
   ]
  },
  {
   "cell_type": "markdown",
   "metadata": {},
   "source": [
    "# Global recoding"
   ]
  },
  {
   "cell_type": "markdown",
   "metadata": {},
   "source": [
    "I'm not sure if the z-test makes sense to perform, since the only altered attribute is age"
   ]
  },
  {
   "cell_type": "code",
   "execution_count": 3,
   "metadata": {},
   "outputs": [
    {
     "name": "stdout",
     "output_type": "stream",
     "text": [
      "Chi-square Test Results for age_group vs party\n",
      "Chi-square statistic: 38.670777227510406\n",
      "p-value: 0.00011921468756972552\n"
     ]
    }
   ],
   "source": [
    "chi2(anon_data[\"age_group\"], anon_data[\"party\"])"
   ]
  },
  {
   "cell_type": "code",
   "execution_count": 4,
   "metadata": {},
   "outputs": [
    {
     "name": "stdout",
     "output_type": "stream",
     "text": [
      "Chi-square Test Results for age_group vs party\n",
      "Chi-square statistic: 38.670777227510406\n",
      "p-value: 0.00011921468756972552\n"
     ]
    }
   ],
   "source": [
    "from functions import chi2, two_sample_z_test  # Adjust this based on your file location\n",
    "\n",
    "# Example data for chi2 test\n",
    "chi2(anon_data['age_group'], anon_data['party'])"
   ]
  }
 ],
 "metadata": {
  "kernelspec": {
   "display_name": "Python 3",
   "language": "python",
   "name": "python3"
  },
  "language_info": {
   "codemirror_mode": {
    "name": "ipython",
    "version": 3
   },
   "file_extension": ".py",
   "mimetype": "text/x-python",
   "name": "python",
   "nbconvert_exporter": "python",
   "pygments_lexer": "ipython3",
   "version": "3.11.3"
  }
 },
 "nbformat": 4,
 "nbformat_minor": 2
}
