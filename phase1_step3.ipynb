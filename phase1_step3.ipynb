{
 "cells": [
  {
   "cell_type": "markdown",
   "metadata": {},
   "source": [
    "### Step 3: \n",
    "\n",
    "Conduct the same analyses as in Step 1, but this time on the anonymised dataset. Note the differences in the analysisoutcome compared to the analyses you have performed on raw dataset. If the differences are too large (according to your own evaluation), return to Step 2 and redo the anonymisation."
   ]
  },
  {
   "cell_type": "code",
   "execution_count": 1,
   "metadata": {},
   "outputs": [],
   "source": [
    "import pandas as pd\n",
    "from scipy.stats import chisquare\n",
    "import numpy as np \n",
    "from statsmodels.stats.proportion import proportions_ztest\n",
    "from scipy.stats import chi2_contingency\n",
    "import statsmodels.api as sm\n",
    "import matplotlib.pyplot as plt\n",
    "from functions import two_sample_z_test, chi2, chi2_A"
   ]
  },
  {
   "cell_type": "code",
   "execution_count": 2,
   "metadata": {},
   "outputs": [
    {
     "name": "stdout",
     "output_type": "stream",
     "text": [
      "      sex  evote   zip                                education citizenship  \\\n",
      "0  Female      0  2400          Vocational bachelors educations     Denmark   \n",
      "1    Male      1  2200                       Masters programmes     Denmark   \n",
      "2    Male      1  2200          Vocational bachelors educations     Denmark   \n",
      "3  Female      0  2200  Vocational Education and Training (VET)     Denmark   \n",
      "4    Male      0  2200  Vocational Education and Training (VET)     Denmark   \n",
      "\n",
      "      marital_status  party age_group  \n",
      "0      Never married    Red   (38,48]  \n",
      "1  Married/separated  Green   (30,38]  \n",
      "2      Never married  Green   (18,30]  \n",
      "3           Divorced  Green   (58,70]  \n",
      "4           Divorced  Green   (58,70]  \n"
     ]
    }
   ],
   "source": [
    "# Data prep\n",
    "# global recoding on age and pram on sex \n",
    "anon_data_global_recoding_pram = pd.read_excel(\"anon_data/anon_data_global_recoding_pram.xlsx\")\n",
    "# global recoding on age, global recoding on marital status \n",
    "anon_data_global2 = pd.read_excel(\"anon_data/anon_data_global2.xlsx\")\n",
    "# global recodign on age, global recoding on marital status, and pram on sex \n",
    "anon_data_global2_pram = pd.read_excel(\"anon_data/anon_data_global2_pram.xlsx\")\n",
    "print(anon_data_global_recoding_pram.head())"
   ]
  },
  {
   "cell_type": "markdown",
   "metadata": {},
   "source": [
    "# Testing statistics"
   ]
  },
  {
   "cell_type": "markdown",
   "metadata": {},
   "source": [
    "I'm not sure if the z-test makes sense to perform, since the only altered attribute is age"
   ]
  },
  {
   "cell_type": "markdown",
   "metadata": {},
   "source": [
    "### A)"
   ]
  },
  {
   "cell_type": "code",
   "execution_count": 4,
   "metadata": {},
   "outputs": [
    {
     "name": "stdout",
     "output_type": "stream",
     "text": [
      "Polling station\n",
      "Chi-square Test Results for Polling Station\n",
      "Chi-square statistic: 0.39122741032464753\n",
      "p-value: 0.8223298351007018\n",
      "Evotes\n",
      "Chi-square Test Results for E-votes\n",
      "Chi-square statistic: 1.715440997596452\n",
      "p-value: 0.42412778103046767\n",
      "\n",
      "\n",
      "Polling station\n",
      "Chi-square Test Results for Polling Station\n",
      "Chi-square statistic: 0.39122741032464753\n",
      "p-value: 0.8223298351007018\n",
      "Evotes\n",
      "Chi-square Test Results for E-votes\n",
      "Chi-square statistic: 1.715440997596452\n",
      "p-value: 0.42412778103046767\n",
      "\n",
      "\n",
      "Polling station\n",
      "Chi-square Test Results for Polling Station\n",
      "Chi-square statistic: 0.39122741032464753\n",
      "p-value: 0.8223298351007018\n",
      "Evotes\n",
      "Chi-square Test Results for E-votes\n",
      "Chi-square statistic: 1.715440997596452\n",
      "p-value: 0.42412778103046767\n"
     ]
    }
   ],
   "source": [
    "results_data = pd.read_excel(\"data/public_data_resultsE.xlsx\")\n",
    "chi2_A(results_data, anon_data_global_recoding_pram)\n",
    "print(\"\\n\")\n",
    "chi2_A(results_data, anon_data_global2)\n",
    "print(\"\\n\")\n",
    "chi2_A(results_data, anon_data_global2_pram)"
   ]
  },
  {
   "cell_type": "markdown",
   "metadata": {},
   "source": [
    "### B)"
   ]
  },
  {
   "cell_type": "code",
   "execution_count": 6,
   "metadata": {},
   "outputs": [
    {
     "name": "stdout",
     "output_type": "stream",
     "text": [
      "Chi-square Test Results for age_group vs party\n",
      "Chi-square statistic: 39.49537287629706\n",
      "p-value: 2.0786053930340463e-05\n",
      "\n",
      "\n",
      "Chi-square Test Results for sex vs party\n",
      "Chi-square statistic: 1.7660374968309704\n",
      "p-value: 0.41353267444943864\n",
      "\n",
      "\n",
      "Chi-square Test Results for marital_status vs party\n",
      "Chi-square statistic: 20.01623723071642\n",
      "p-value: 0.002751026209755751\n",
      "\n",
      "\n",
      "Chi-square Test Results for education vs party\n",
      "Chi-square statistic: 34.70051433812302\n",
      "p-value: 0.0043666219362705665\n"
     ]
    }
   ],
   "source": [
    "chi2(anon_data_global_recoding_pram[\"age_group\"], anon_data_global_recoding_pram[\"party\"])\n",
    "print(\"\\n\")\n",
    "chi2(anon_data_global_recoding_pram[\"sex\"], anon_data_global_recoding_pram[\"party\"])\n",
    "print(\"\\n\")\n",
    "chi2(anon_data_global_recoding_pram[\"marital_status\"], anon_data_global_recoding_pram[\"party\"])\n",
    "print(\"\\n\")\n",
    "chi2(anon_data_global_recoding_pram[\"education\"], anon_data_global_recoding_pram[\"party\"])\n"
   ]
  },
  {
   "cell_type": "code",
   "execution_count": 7,
   "metadata": {},
   "outputs": [
    {
     "name": "stdout",
     "output_type": "stream",
     "text": [
      "Chi-square Test Results for age_group vs party\n",
      "Chi-square statistic: 39.49537287629706\n",
      "p-value: 2.0786053930340463e-05\n",
      "\n",
      "\n",
      "Chi-square Test Results for sex vs party\n",
      "Chi-square statistic: 2.6921194181654475\n",
      "p-value: 0.2602637578043603\n",
      "\n",
      "\n",
      "Chi-square Test Results for marital_status vs party\n",
      "Chi-square statistic: 20.01623723071642\n",
      "p-value: 0.002751026209755751\n",
      "\n",
      "\n",
      "Chi-square Test Results for education vs party\n",
      "Chi-square statistic: 34.70051433812302\n",
      "p-value: 0.0043666219362705665\n"
     ]
    }
   ],
   "source": [
    "chi2(anon_data_global2[\"age_group\"], anon_data_global2[\"party\"])\n",
    "print(\"\\n\")\n",
    "chi2(anon_data_global2[\"sex\"], anon_data_global2[\"party\"])\n",
    "print(\"\\n\")\n",
    "chi2(anon_data_global2[\"marital_status\"], anon_data_global2[\"party\"])\n",
    "print(\"\\n\")\n",
    "chi2(anon_data_global2[\"education\"], anon_data_global2[\"party\"])"
   ]
  },
  {
   "cell_type": "code",
   "execution_count": 8,
   "metadata": {},
   "outputs": [
    {
     "name": "stdout",
     "output_type": "stream",
     "text": [
      "Chi-square Test Results for age_group vs party\n",
      "Chi-square statistic: 39.49537287629706\n",
      "p-value: 2.0786053930340463e-05\n",
      "\n",
      "\n",
      "Chi-square Test Results for sex vs party\n",
      "Chi-square statistic: 1.7660374968309704\n",
      "p-value: 0.41353267444943864\n",
      "\n",
      "\n",
      "Chi-square Test Results for marital_status vs party\n",
      "Chi-square statistic: 20.01623723071642\n",
      "p-value: 0.002751026209755751\n",
      "\n",
      "\n",
      "Chi-square Test Results for education vs party\n",
      "Chi-square statistic: 34.70051433812302\n",
      "p-value: 0.0043666219362705665\n"
     ]
    }
   ],
   "source": [
    "chi2(anon_data_global2_pram[\"age_group\"], anon_data_global2_pram[\"party\"])\n",
    "print(\"\\n\")\n",
    "chi2(anon_data_global2_pram[\"sex\"], anon_data_global2_pram[\"party\"])\n",
    "print(\"\\n\")\n",
    "chi2(anon_data_global2_pram[\"marital_status\"], anon_data_global2_pram[\"party\"])\n",
    "print(\"\\n\")\n",
    "chi2(anon_data_global2_pram[\"education\"], anon_data_global2_pram[\"party\"])"
   ]
  },
  {
   "cell_type": "markdown",
   "metadata": {},
   "source": [
    "### C)"
   ]
  },
  {
   "cell_type": "code",
   "execution_count": 10,
   "metadata": {},
   "outputs": [
    {
     "name": "stdout",
     "output_type": "stream",
     "text": [
      "Chi-square Test Results for age_group vs evote\n",
      "Chi-square statistic: 6.721372088297259\n",
      "p-value: 0.24220047468697012\n",
      "\n",
      "\n",
      "Chi-square Test Results for sex vs evote\n",
      "Chi-square statistic: 1.0203357810702407\n",
      "p-value: 0.312439374179222\n",
      "\n",
      "\n",
      "Chi-square Test Results for marital_status vs evote\n",
      "Chi-square statistic: 2.3438246190813716\n",
      "p-value: 0.5041772995157889\n",
      "\n",
      "\n",
      "Chi-square Test Results for education vs evote\n",
      "Chi-square statistic: 8.784052225187445\n",
      "p-value: 0.36083942749998765\n"
     ]
    }
   ],
   "source": [
    "chi2(anon_data_global_recoding_pram[\"age_group\"], anon_data_global_recoding_pram[\"evote\"])\n",
    "print(\"\\n\")\n",
    "chi2(anon_data_global_recoding_pram[\"sex\"], anon_data_global_recoding_pram[\"evote\"])\n",
    "print(\"\\n\")\n",
    "chi2(anon_data_global_recoding_pram[\"marital_status\"], anon_data_global_recoding_pram[\"evote\"])\n",
    "print(\"\\n\")\n",
    "chi2(anon_data_global_recoding_pram[\"education\"], anon_data_global_recoding_pram[\"evote\"])\n"
   ]
  },
  {
   "cell_type": "code",
   "execution_count": 11,
   "metadata": {},
   "outputs": [
    {
     "name": "stdout",
     "output_type": "stream",
     "text": [
      "Chi-square Test Results for age_group vs evote\n",
      "Chi-square statistic: 6.721372088297259\n",
      "p-value: 0.24220047468697012\n",
      "\n",
      "\n",
      "Chi-square Test Results for sex vs evote\n",
      "Chi-square statistic: 0.9166948350492361\n",
      "p-value: 0.338344299779689\n",
      "\n",
      "\n",
      "Chi-square Test Results for marital_status vs evote\n",
      "Chi-square statistic: 2.3438246190813716\n",
      "p-value: 0.5041772995157889\n",
      "\n",
      "\n",
      "Chi-square Test Results for education vs evote\n",
      "Chi-square statistic: 8.784052225187445\n",
      "p-value: 0.36083942749998765\n"
     ]
    }
   ],
   "source": [
    "chi2(anon_data_global2[\"age_group\"], anon_data_global2[\"evote\"])\n",
    "print(\"\\n\")\n",
    "chi2(anon_data_global2[\"sex\"], anon_data_global2[\"evote\"])\n",
    "print(\"\\n\")\n",
    "chi2(anon_data_global2[\"marital_status\"], anon_data_global2[\"evote\"])\n",
    "print(\"\\n\")\n",
    "chi2(anon_data_global2[\"education\"], anon_data_global2[\"evote\"])"
   ]
  },
  {
   "cell_type": "code",
   "execution_count": 12,
   "metadata": {},
   "outputs": [
    {
     "name": "stdout",
     "output_type": "stream",
     "text": [
      "Chi-square Test Results for age_group vs evote\n",
      "Chi-square statistic: 6.721372088297259\n",
      "p-value: 0.24220047468697012\n",
      "\n",
      "\n",
      "Chi-square Test Results for sex vs evote\n",
      "Chi-square statistic: 1.0203357810702407\n",
      "p-value: 0.312439374179222\n",
      "\n",
      "\n",
      "Chi-square Test Results for marital_status vs evote\n",
      "Chi-square statistic: 2.3438246190813716\n",
      "p-value: 0.5041772995157889\n",
      "\n",
      "\n",
      "Chi-square Test Results for education vs evote\n",
      "Chi-square statistic: 8.784052225187445\n",
      "p-value: 0.36083942749998765\n"
     ]
    }
   ],
   "source": [
    "chi2(anon_data_global2_pram[\"age_group\"], anon_data_global2_pram[\"evote\"])\n",
    "print(\"\\n\")\n",
    "chi2(anon_data_global2_pram[\"sex\"], anon_data_global2_pram[\"evote\"])\n",
    "print(\"\\n\")\n",
    "chi2(anon_data_global2_pram[\"marital_status\"], anon_data_global2_pram[\"evote\"])\n",
    "print(\"\\n\")\n",
    "chi2(anon_data_global2_pram[\"education\"], anon_data_global2_pram[\"evote\"])"
   ]
  }
 ],
 "metadata": {
  "kernelspec": {
   "display_name": "base",
   "language": "python",
   "name": "python3"
  },
  "language_info": {
   "codemirror_mode": {
    "name": "ipython",
    "version": 3
   },
   "file_extension": ".py",
   "mimetype": "text/x-python",
   "name": "python",
   "nbconvert_exporter": "python",
   "pygments_lexer": "ipython3",
   "version": "3.10.9"
  }
 },
 "nbformat": 4,
 "nbformat_minor": 2
}
