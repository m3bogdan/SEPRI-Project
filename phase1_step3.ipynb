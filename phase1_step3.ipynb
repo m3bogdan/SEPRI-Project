{
 "cells": [
  {
   "cell_type": "markdown",
   "metadata": {},
   "source": [
    "### Step 3: \n",
    "\n",
    "Conduct the same analyses as in Step 1, but this time on the anonymised dataset. Note the differences in the analysisoutcome compared to the analyses you have performed on raw dataset. If the differences are too large (according to your own evaluation), return to Step 2 and redo the anonymisation."
   ]
  },
  {
   "cell_type": "code",
   "execution_count": 1,
   "metadata": {},
   "outputs": [],
   "source": [
    "import pandas as pd\n",
    "from scipy.stats import chisquare\n",
    "import numpy as np \n",
    "from statsmodels.stats.proportion import proportions_ztest\n",
    "from scipy.stats import chi2_contingency\n",
    "import statsmodels.api as sm\n",
    "import matplotlib.pyplot as plt\n",
    "from functions import two_sample_z_test, chi2"
   ]
  },
  {
   "cell_type": "code",
   "execution_count": 9,
   "metadata": {},
   "outputs": [
    {
     "name": "stdout",
     "output_type": "stream",
     "text": [
      "      sex  evote   zip                                education citizenship  \\\n",
      "0  Female      0  2400          Vocational bachelors educations     Denmark   \n",
      "1    Male      1  2200                       Masters programmes     Denmark   \n",
      "2  Female      1  2200          Vocational bachelors educations     Denmark   \n",
      "3  Female      0  2200  Vocational Education and Training (VET)     Denmark   \n",
      "4    Male      0  2200  Vocational Education and Training (VET)     Denmark   \n",
      "\n",
      "      marital_status  party age_group  \n",
      "0      Never married    Red   (38,48]  \n",
      "1  Married/separated  Green   (30,38]  \n",
      "2      Never married  Green   (18,30]  \n",
      "3           Divorced  Green   (58,70]  \n",
      "4           Divorced  Green   (58,70]  \n"
     ]
    }
   ],
   "source": [
    "# Data prep\n",
    "# global recoding \n",
    "anon_data_global_recoding = pd.read_excel(\"anon_data/anon_data_global_recoding.xlsx\")\n",
    "anon_data_pram = pd.read_excel(\"anon_data/anonymized_data_pram.xlsx\")\n",
    "anon_data_pram_global_recoding = pd.read_excel(\"anon_data/anon_data_global_recoding_pram.xlsx\")\n",
    "print(anon_data_pram_global_recoding.head())"
   ]
  },
  {
   "cell_type": "markdown",
   "metadata": {},
   "source": [
    "# Testing statistics"
   ]
  },
  {
   "cell_type": "markdown",
   "metadata": {},
   "source": [
    "I'm not sure if the z-test makes sense to perform, since the only altered attribute is age"
   ]
  },
  {
   "cell_type": "markdown",
   "metadata": {},
   "source": [
    "### B)"
   ]
  },
  {
   "cell_type": "code",
   "execution_count": 12,
   "metadata": {},
   "outputs": [
    {
     "name": "stdout",
     "output_type": "stream",
     "text": [
      "Chi-square Test Results for age_group vs party\n",
      "Chi-square statistic: 39.49537287629706\n",
      "p-value: 2.0786053930340463e-05\n",
      "\n",
      "\n",
      "Chi-square Test Results for education vs party\n",
      "Chi-square statistic: 34.70051433812302\n",
      "p-value: 0.0043666219362705665\n",
      "\n",
      "\n",
      "Chi-square Test Results for marital_status vs party\n",
      "Chi-square statistic: 20.01623723071642\n",
      "p-value: 0.002751026209755751\n",
      "\n",
      "\n",
      "Chi-square Test Results for sex vs party\n",
      "Chi-square statistic: 2.6141591721050426\n",
      "p-value: 0.2706091943846052\n"
     ]
    }
   ],
   "source": [
    "chi2(anon_data_pram_global_recoding[\"age_group\"], anon_data_pram_global_recoding[\"party\"])\n",
    "print(\"\\n\")\n",
    "chi2(anon_data_pram_global_recoding[\"education\"], anon_data_pram_global_recoding[\"party\"])\n",
    "print(\"\\n\")\n",
    "chi2(anon_data_pram_global_recoding[\"marital_status\"], anon_data_pram_global_recoding[\"party\"])\n",
    "print(\"\\n\")\n",
    "chi2(anon_data_pram_global_recoding[\"sex\"], anon_data_pram_global_recoding[\"party\"])"
   ]
  }
 ],
 "metadata": {
  "kernelspec": {
   "display_name": "Python 3",
   "language": "python",
   "name": "python3"
  },
  "language_info": {
   "codemirror_mode": {
    "name": "ipython",
    "version": 3
   },
   "file_extension": ".py",
   "mimetype": "text/x-python",
   "name": "python",
   "nbconvert_exporter": "python",
   "pygments_lexer": "ipython3",
   "version": "3.10.3"
  }
 },
 "nbformat": 4,
 "nbformat_minor": 2
}
