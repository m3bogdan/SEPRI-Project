{
 "cells": [
  {
   "cell_type": "markdown",
   "metadata": {},
   "source": [
    "### Step 3: \n",
    "\n",
    "Conduct the same analyses as in Step 1, but this time on the anonymised dataset. Note the differences in the analysisoutcome compared to the analyses you have performed on raw dataset. If the differences are too large (according to your own evaluation), return to Step 2 and redo the anonymisation."
   ]
  },
  {
   "cell_type": "code",
   "execution_count": 1,
   "metadata": {},
   "outputs": [],
   "source": [
    "import pandas as pd\n",
    "from scipy.stats import chisquare\n",
    "import numpy as np \n",
    "from statsmodels.stats.proportion import proportions_ztest\n",
    "from scipy.stats import chi2_contingency\n",
    "import statsmodels.api as sm\n",
    "import matplotlib.pyplot as plt\n",
    "from functions import two_sample_z_test, chi2"
   ]
  },
  {
   "cell_type": "code",
   "execution_count": 5,
   "metadata": {},
   "outputs": [],
   "source": [
    "# Data prep\n",
    "anon_data = pd.read_excel(\"anon_data/anon_data_global_recoding.xlsx\")\n",
    "anon_data_pram = pd.read_excel(\"anon_data/anonymized_data_pram.xlsx\")"
   ]
  },
  {
   "cell_type": "markdown",
   "metadata": {},
   "source": [
    "# Testing statistics"
   ]
  },
  {
   "cell_type": "markdown",
   "metadata": {},
   "source": [
    "I'm not sure if the z-test makes sense to perform, since the only altered attribute is age"
   ]
  },
  {
   "cell_type": "code",
   "execution_count": 3,
   "metadata": {},
   "outputs": [
    {
     "name": "stdout",
     "output_type": "stream",
     "text": [
      "Chi-square Test Results for age_group vs party\n",
      "Chi-square statistic: 39.49537287629706\n",
      "p-value: 2.0786053930340463e-05\n"
     ]
    }
   ],
   "source": [
    "chi2(anon_data[\"age_group\"], anon_data[\"party\"])"
   ]
  },
  {
   "cell_type": "code",
   "execution_count": 7,
   "metadata": {},
   "outputs": [
    {
     "name": "stdout",
     "output_type": "stream",
     "text": [
      "Chi-square Test Results for age vs party\n",
      "Chi-square statistic: 134.5192381833603\n",
      "p-value: 0.4711413110695244\n"
     ]
    }
   ],
   "source": [
    "chi2(anon_data_pram[\"age\"], anon_data_pram[\"party\"])"
   ]
  },
  {
   "cell_type": "code",
   "execution_count": 8,
   "metadata": {},
   "outputs": [
    {
     "name": "stdout",
     "output_type": "stream",
     "text": [
      "Chi-square Test Results for marital_status vs party\n",
      "Chi-square statistic: 20.01623723071642\n",
      "p-value: 0.0027510262097557507\n"
     ]
    }
   ],
   "source": [
    "chi2(anon_data_pram[\"marital_status\"], anon_data_pram[\"party\"])"
   ]
  },
  {
   "cell_type": "code",
   "execution_count": 9,
   "metadata": {},
   "outputs": [
    {
     "name": "stdout",
     "output_type": "stream",
     "text": [
      "Chi-square Test Results for education vs evote\n",
      "Chi-square statistic: 8.784052225187445\n",
      "p-value: 0.36083942749998765\n"
     ]
    }
   ],
   "source": [
    "chi2(anon_data_pram[\"education\"], anon_data_pram[\"evote\"])"
   ]
  }
 ],
 "metadata": {
  "kernelspec": {
   "display_name": "base",
   "language": "python",
   "name": "python3"
  },
  "language_info": {
   "codemirror_mode": {
    "name": "ipython",
    "version": 3
   },
   "file_extension": ".py",
   "mimetype": "text/x-python",
   "name": "python",
   "nbconvert_exporter": "python",
   "pygments_lexer": "ipython3",
   "version": "3.10.9"
  }
 },
 "nbformat": 4,
 "nbformat_minor": 2
}
