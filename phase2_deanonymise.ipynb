{
 "cells": [
  {
   "cell_type": "markdown",
   "metadata": {},
   "source": [
    "##### Deanonymising group B's dataset "
   ]
  },
  {
   "cell_type": "markdown",
   "metadata": {},
   "source": [
    "Anonymisation techniques: \n",
    "- Pram on evote, zip, citizenship and party \n",
    "- Grouping on age -> age groups \n",
    "- Grouping on education levels -> broader categories \n",
    "- Recoding citizenship into boolean Danish citizenship \n",
    "- Removed name, dob \n",
    "- Masking the party variable + randomly morphed the 2 entries marked as \"Invalid Vote\" ??\n",
    "- Masked the zip variable - assigninng a random zip region to each zip code \n",
    "- k-anonomity of 2 (supression)"
   ]
  },
  {
   "cell_type": "markdown",
   "metadata": {},
   "source": [
    "Importing libraries "
   ]
  },
  {
   "cell_type": "code",
   "execution_count": 9,
   "metadata": {},
   "outputs": [],
   "source": [
    "import pandas as pd\n",
    "import functions \n",
    "from datetime import date"
   ]
  },
  {
   "cell_type": "markdown",
   "metadata": {},
   "source": [
    "Loading in their data"
   ]
  },
  {
   "cell_type": "code",
   "execution_count": 2,
   "metadata": {},
   "outputs": [],
   "source": [
    "# global recoding on age and pram on sex \n",
    "anonymised_data = pd.read_csv(\"deanon_data/anonymised_dataB.csv\")\n",
    "# global recoding on age, global recoding on marital status \n",
    "register_data = pd.read_excel(\"deanon_data/public_data_registerB.xlsx\")\n",
    "# global recodign on age, global recoding on marital status, and pram on sex \n",
    "results_data = pd.read_excel(\"deanon_data/public_data_resultsB.xlsx\")"
   ]
  },
  {
   "cell_type": "markdown",
   "metadata": {},
   "source": [
    "Preparing the results data \n",
    "- Converting age -> age groups \n",
    "- Converting citizenship into boolean Danish_citizenship\n",
    "- Masking zip code into region ???"
   ]
  },
  {
   "cell_type": "code",
   "execution_count": 24,
   "metadata": {},
   "outputs": [],
   "source": [
    "# convert dob to age \n",
    "def calculate_age(born):\n",
    "    today = date.today()\n",
    "    return today.year - born.year - ((today.month, today.day) < (born.month, born.day))\n",
    "register_data[\"dob\"] = pd.to_datetime(register_data[\"dob\"])\n",
    "register_data['age'] = register_data['dob'].apply(lambda x: calculate_age(x))\n",
    "\n",
    "# convert age to age groups \n",
    "age_bins = [18, 29, 39, 49, 59, 69, 70, 1000]  # Adjust as needed\n",
    "#age_labels = [\"18-29\", \"30-39\", \"40-49\", \"50-59\", \"60-69\", \"70+\"] \n",
    "register_data['age_group'] = pd.cut(register_data['age'], bins=age_bins,right=True, include_lowest=True)"
   ]
  },
  {
   "cell_type": "code",
   "execution_count": 23,
   "metadata": {},
   "outputs": [],
   "source": [
    "# define function \n",
    "def danish(x): \n",
    "    if x == \"Denmark\": \n",
    "        return True \n",
    "    else: \n",
    "        return False \n",
    "\n",
    "register_data[\"Danish_Citizenship\"]= register_data[\"citizenship\"].apply(lambda x: danish(x))"
   ]
  },
  {
   "cell_type": "code",
   "execution_count": null,
   "metadata": {},
   "outputs": [],
   "source": []
  },
  {
   "cell_type": "markdown",
   "metadata": {},
   "source": [
    "Getting survey voters from register data "
   ]
  },
  {
   "cell_type": "code",
   "execution_count": 45,
   "metadata": {},
   "outputs": [],
   "source": [
    "quasi = ['sex', 'marital_status', 'age_group', 'Danish_Citizenship']\n",
    "\n",
    "with open(\"deanon_data/survey_listB.txt\", \"r\") as my_file:\n",
    "    # Read the file content\n",
    "    data = my_file.read()\n",
    "    \n",
    "    # Split the text into a list by newline ('\\n')\n",
    "    data_into_list = data.split(\"\\n\")\n",
    "\n",
    "survey_voters = register_data.query('name in @data_into_list')\n",
    "survey_voters = survey_voters[quasi]"
   ]
  },
  {
   "cell_type": "markdown",
   "metadata": {},
   "source": [
    "Computing k-anonimity violations"
   ]
  },
  {
   "cell_type": "code",
   "execution_count": 46,
   "metadata": {},
   "outputs": [
    {
     "data": {
      "text/plain": [
       "{2: (19, 9.595959595959595),\n",
       " 3: (45, 22.727272727272727),\n",
       " 5: (62, 31.313131313131315)}"
      ]
     },
     "execution_count": 46,
     "metadata": {},
     "output_type": "execute_result"
    }
   ],
   "source": [
    "functions.k_anonymity_violations(anonymised_data, quasi)"
   ]
  },
  {
   "cell_type": "code",
   "execution_count": 47,
   "metadata": {},
   "outputs": [],
   "source": [
    "k2_violations = functions.identify_k_anonymity_violations(anonymised_data, quasi)"
   ]
  }
 ],
 "metadata": {
  "kernelspec": {
   "display_name": "base",
   "language": "python",
   "name": "python3"
  },
  "language_info": {
   "codemirror_mode": {
    "name": "ipython",
    "version": 3
   },
   "file_extension": ".py",
   "mimetype": "text/x-python",
   "name": "python",
   "nbconvert_exporter": "python",
   "pygments_lexer": "ipython3",
   "version": "3.10.9"
  }
 },
 "nbformat": 4,
 "nbformat_minor": 2
}
