{
 "cells": [
  {
   "cell_type": "markdown",
   "metadata": {},
   "source": [
    "#### Loading in the data \n",
    "Data attributes: \n",
    "- sex:\n",
    "  - Female\n",
    "  - Male\n",
    "- dob: Date of birth (DD/MM/YYYY)\n",
    "- zip: ZIP code of the voter’s address (2100, 2200, 2300, or 2400)\n",
    "- evote: Whether the voter cast their vote electronically\n",
    "  - 0: Vote cast on paper (polling station)\n",
    "  - 1: Vote cast electronically\n",
    "- party: How the voter has voted\n",
    "  - Red party\n",
    "  - Green party\n",
    "  - Invalid vote (spoiled ballot)\n",
    "- marital_status:\n",
    "  - Never married\n",
    "  - Married/separated\n",
    "  - Divorced\n",
    "  - Widowed\n",
    "- education:\n",
    "  - Primary education\n",
    "  - Upper secondary education\n",
    "  - Vocational Education and Training (VET)\n",
    "  - Short cycle higher education\n",
    "  - Vocational bachelor’s education\n",
    "  - Bachelor’s programs\n",
    "  - Master’s programs\n",
    "  - PhD programs\n",
    "  - Not stated\n",
    "- citizenship: Name of the country"
   ]
  },
  {
   "cell_type": "code",
   "execution_count": 1,
   "metadata": {},
   "outputs": [
    {
     "data": {
      "text/html": [
       "<div>\n",
       "<style scoped>\n",
       "    .dataframe tbody tr th:only-of-type {\n",
       "        vertical-align: middle;\n",
       "    }\n",
       "\n",
       "    .dataframe tbody tr th {\n",
       "        vertical-align: top;\n",
       "    }\n",
       "\n",
       "    .dataframe thead th {\n",
       "        text-align: right;\n",
       "    }\n",
       "</style>\n",
       "<table border=\"1\" class=\"dataframe\">\n",
       "  <thead>\n",
       "    <tr style=\"text-align: right;\">\n",
       "      <th></th>\n",
       "      <th>name</th>\n",
       "      <th>sex</th>\n",
       "      <th>evote</th>\n",
       "      <th>dob</th>\n",
       "      <th>zip</th>\n",
       "      <th>education</th>\n",
       "      <th>citizenship</th>\n",
       "      <th>marital_status</th>\n",
       "      <th>party</th>\n",
       "    </tr>\n",
       "  </thead>\n",
       "  <tbody>\n",
       "    <tr>\n",
       "      <th>0</th>\n",
       "      <td>Morris, Emily</td>\n",
       "      <td>Female</td>\n",
       "      <td>0</td>\n",
       "      <td>1977-12-19</td>\n",
       "      <td>2400</td>\n",
       "      <td>Vocational bachelors educations</td>\n",
       "      <td>Denmark</td>\n",
       "      <td>Never married</td>\n",
       "      <td>Red</td>\n",
       "    </tr>\n",
       "    <tr>\n",
       "      <th>1</th>\n",
       "      <td>Freda, Michael</td>\n",
       "      <td>Male</td>\n",
       "      <td>1</td>\n",
       "      <td>1986-12-01</td>\n",
       "      <td>2200</td>\n",
       "      <td>Masters programmes</td>\n",
       "      <td>Denmark</td>\n",
       "      <td>Married/separated</td>\n",
       "      <td>Green</td>\n",
       "    </tr>\n",
       "    <tr>\n",
       "      <th>2</th>\n",
       "      <td>Goosby, Emil</td>\n",
       "      <td>Male</td>\n",
       "      <td>1</td>\n",
       "      <td>1997-08-10</td>\n",
       "      <td>2200</td>\n",
       "      <td>Vocational bachelors educations</td>\n",
       "      <td>Denmark</td>\n",
       "      <td>Never married</td>\n",
       "      <td>Green</td>\n",
       "    </tr>\n",
       "    <tr>\n",
       "      <th>3</th>\n",
       "      <td>Alcantar, Amanda</td>\n",
       "      <td>Female</td>\n",
       "      <td>0</td>\n",
       "      <td>1965-01-18</td>\n",
       "      <td>2200</td>\n",
       "      <td>Vocational Education and Training (VET)</td>\n",
       "      <td>Denmark</td>\n",
       "      <td>Divorced</td>\n",
       "      <td>Green</td>\n",
       "    </tr>\n",
       "    <tr>\n",
       "      <th>4</th>\n",
       "      <td>Havick, Justin</td>\n",
       "      <td>Male</td>\n",
       "      <td>0</td>\n",
       "      <td>1958-10-13</td>\n",
       "      <td>2200</td>\n",
       "      <td>Vocational Education and Training (VET)</td>\n",
       "      <td>Denmark</td>\n",
       "      <td>Divorced</td>\n",
       "      <td>Green</td>\n",
       "    </tr>\n",
       "  </tbody>\n",
       "</table>\n",
       "</div>"
      ],
      "text/plain": [
       "               name     sex  evote        dob   zip   \n",
       "0     Morris, Emily  Female      0 1977-12-19  2400  \\\n",
       "1    Freda, Michael    Male      1 1986-12-01  2200   \n",
       "2      Goosby, Emil    Male      1 1997-08-10  2200   \n",
       "3  Alcantar, Amanda  Female      0 1965-01-18  2200   \n",
       "4    Havick, Justin    Male      0 1958-10-13  2200   \n",
       "\n",
       "                                 education citizenship     marital_status   \n",
       "0          Vocational bachelors educations     Denmark      Never married  \\\n",
       "1                       Masters programmes     Denmark  Married/separated   \n",
       "2          Vocational bachelors educations     Denmark      Never married   \n",
       "3  Vocational Education and Training (VET)     Denmark           Divorced   \n",
       "4  Vocational Education and Training (VET)     Denmark           Divorced   \n",
       "\n",
       "   party  \n",
       "0    Red  \n",
       "1  Green  \n",
       "2  Green  \n",
       "3  Green  \n",
       "4  Green  "
      ]
     },
     "execution_count": 1,
     "metadata": {},
     "output_type": "execute_result"
    }
   ],
   "source": [
    "import pandas as pd \n",
    "survey_data = pd.read_excel(\"data/private_dataE.xlsx\")\n",
    "results_data = pd.read_excel(\"data/public_data_resultsE.xlsx\")\n",
    "\n",
    "survey_data.head()"
   ]
  },
  {
   "cell_type": "code",
   "execution_count": 2,
   "metadata": {},
   "outputs": [
    {
     "data": {
      "text/html": [
       "<div>\n",
       "<style scoped>\n",
       "    .dataframe tbody tr th:only-of-type {\n",
       "        vertical-align: middle;\n",
       "    }\n",
       "\n",
       "    .dataframe tbody tr th {\n",
       "        vertical-align: top;\n",
       "    }\n",
       "\n",
       "    .dataframe thead th {\n",
       "        text-align: right;\n",
       "    }\n",
       "</style>\n",
       "<table border=\"1\" class=\"dataframe\">\n",
       "  <thead>\n",
       "    <tr style=\"text-align: right;\">\n",
       "      <th></th>\n",
       "      <th>Unnamed: 0</th>\n",
       "      <th>Red</th>\n",
       "      <th>Green</th>\n",
       "      <th>Invalid ballots</th>\n",
       "      <th>Total</th>\n",
       "    </tr>\n",
       "  </thead>\n",
       "  <tbody>\n",
       "    <tr>\n",
       "      <th>0</th>\n",
       "      <td>Polling station: ZIP 2100</td>\n",
       "      <td>32</td>\n",
       "      <td>86</td>\n",
       "      <td>1</td>\n",
       "      <td>119</td>\n",
       "    </tr>\n",
       "    <tr>\n",
       "      <th>1</th>\n",
       "      <td>Polling station: ZIP 2200</td>\n",
       "      <td>58</td>\n",
       "      <td>138</td>\n",
       "      <td>5</td>\n",
       "      <td>201</td>\n",
       "    </tr>\n",
       "    <tr>\n",
       "      <th>2</th>\n",
       "      <td>Polling station: ZIP 2300</td>\n",
       "      <td>105</td>\n",
       "      <td>105</td>\n",
       "      <td>5</td>\n",
       "      <td>215</td>\n",
       "    </tr>\n",
       "    <tr>\n",
       "      <th>3</th>\n",
       "      <td>Polling station: ZIP 2400</td>\n",
       "      <td>78</td>\n",
       "      <td>146</td>\n",
       "      <td>1</td>\n",
       "      <td>225</td>\n",
       "    </tr>\n",
       "    <tr>\n",
       "      <th>4</th>\n",
       "      <td>E-votes</td>\n",
       "      <td>108</td>\n",
       "      <td>219</td>\n",
       "      <td>8</td>\n",
       "      <td>335</td>\n",
       "    </tr>\n",
       "  </tbody>\n",
       "</table>\n",
       "</div>"
      ],
      "text/plain": [
       "                  Unnamed: 0  Red  Green  Invalid ballots  Total\n",
       "0  Polling station: ZIP 2100   32     86                1    119\n",
       "1  Polling station: ZIP 2200   58    138                5    201\n",
       "2  Polling station: ZIP 2300  105    105                5    215\n",
       "3  Polling station: ZIP 2400   78    146                1    225\n",
       "4                    E-votes  108    219                8    335"
      ]
     },
     "execution_count": 2,
     "metadata": {},
     "output_type": "execute_result"
    }
   ],
   "source": [
    "results_data.head()"
   ]
  },
  {
   "cell_type": "code",
   "execution_count": 3,
   "metadata": {},
   "outputs": [
    {
     "data": {
      "text/html": [
       "<div>\n",
       "<style scoped>\n",
       "    .dataframe tbody tr th:only-of-type {\n",
       "        vertical-align: middle;\n",
       "    }\n",
       "\n",
       "    .dataframe tbody tr th {\n",
       "        vertical-align: top;\n",
       "    }\n",
       "\n",
       "    .dataframe thead th {\n",
       "        text-align: right;\n",
       "    }\n",
       "</style>\n",
       "<table border=\"1\" class=\"dataframe\">\n",
       "  <thead>\n",
       "    <tr style=\"text-align: right;\">\n",
       "      <th></th>\n",
       "      <th>where_voting</th>\n",
       "      <th>Red</th>\n",
       "      <th>Green</th>\n",
       "      <th>Invalid ballots</th>\n",
       "      <th>Total</th>\n",
       "    </tr>\n",
       "  </thead>\n",
       "  <tbody>\n",
       "    <tr>\n",
       "      <th>0</th>\n",
       "      <td>Polling station: ZIP 2100</td>\n",
       "      <td>32</td>\n",
       "      <td>86</td>\n",
       "      <td>1</td>\n",
       "      <td>119</td>\n",
       "    </tr>\n",
       "    <tr>\n",
       "      <th>1</th>\n",
       "      <td>Polling station: ZIP 2200</td>\n",
       "      <td>58</td>\n",
       "      <td>138</td>\n",
       "      <td>5</td>\n",
       "      <td>201</td>\n",
       "    </tr>\n",
       "    <tr>\n",
       "      <th>2</th>\n",
       "      <td>Polling station: ZIP 2300</td>\n",
       "      <td>105</td>\n",
       "      <td>105</td>\n",
       "      <td>5</td>\n",
       "      <td>215</td>\n",
       "    </tr>\n",
       "    <tr>\n",
       "      <th>3</th>\n",
       "      <td>Polling station: ZIP 2400</td>\n",
       "      <td>78</td>\n",
       "      <td>146</td>\n",
       "      <td>1</td>\n",
       "      <td>225</td>\n",
       "    </tr>\n",
       "    <tr>\n",
       "      <th>4</th>\n",
       "      <td>E-votes</td>\n",
       "      <td>108</td>\n",
       "      <td>219</td>\n",
       "      <td>8</td>\n",
       "      <td>335</td>\n",
       "    </tr>\n",
       "  </tbody>\n",
       "</table>\n",
       "</div>"
      ],
      "text/plain": [
       "                where_voting  Red  Green  Invalid ballots  Total\n",
       "0  Polling station: ZIP 2100   32     86                1    119\n",
       "1  Polling station: ZIP 2200   58    138                5    201\n",
       "2  Polling station: ZIP 2300  105    105                5    215\n",
       "3  Polling station: ZIP 2400   78    146                1    225\n",
       "4                    E-votes  108    219                8    335"
      ]
     },
     "execution_count": 3,
     "metadata": {},
     "output_type": "execute_result"
    }
   ],
   "source": [
    "results_data = results_data.rename(columns = {\"Unnamed: 0\":\"where_voting\"})\n",
    "results_data.head()"
   ]
  },
  {
   "cell_type": "markdown",
   "metadata": {},
   "source": [
    "##### (A) Is there a significant difference between the political preferences as expressed in the survey and the election results for both electronic and polling station votes?"
   ]
  },
  {
   "cell_type": "code",
   "execution_count": 4,
   "metadata": {},
   "outputs": [
    {
     "data": {
      "text/html": [
       "<div>\n",
       "<style scoped>\n",
       "    .dataframe tbody tr th:only-of-type {\n",
       "        vertical-align: middle;\n",
       "    }\n",
       "\n",
       "    .dataframe tbody tr th {\n",
       "        vertical-align: top;\n",
       "    }\n",
       "\n",
       "    .dataframe thead th {\n",
       "        text-align: right;\n",
       "    }\n",
       "</style>\n",
       "<table border=\"1\" class=\"dataframe\">\n",
       "  <thead>\n",
       "    <tr style=\"text-align: right;\">\n",
       "      <th>party</th>\n",
       "      <th>evote</th>\n",
       "      <th>Green</th>\n",
       "      <th>Invalid vote</th>\n",
       "      <th>Red</th>\n",
       "      <th>total</th>\n",
       "      <th>prop_green</th>\n",
       "      <th>prop_red</th>\n",
       "      <th>prop_inv</th>\n",
       "    </tr>\n",
       "  </thead>\n",
       "  <tbody>\n",
       "    <tr>\n",
       "      <th>0</th>\n",
       "      <td>0</td>\n",
       "      <td>88</td>\n",
       "      <td>3</td>\n",
       "      <td>47</td>\n",
       "      <td>138</td>\n",
       "      <td>0.637681</td>\n",
       "      <td>0.340580</td>\n",
       "      <td>0.021739</td>\n",
       "    </tr>\n",
       "    <tr>\n",
       "      <th>1</th>\n",
       "      <td>1</td>\n",
       "      <td>43</td>\n",
       "      <td>0</td>\n",
       "      <td>19</td>\n",
       "      <td>62</td>\n",
       "      <td>0.693548</td>\n",
       "      <td>0.306452</td>\n",
       "      <td>0.000000</td>\n",
       "    </tr>\n",
       "  </tbody>\n",
       "</table>\n",
       "</div>"
      ],
      "text/plain": [
       "party  evote  Green  Invalid vote  Red  total  prop_green  prop_red  prop_inv\n",
       "0          0     88             3   47    138    0.637681  0.340580  0.021739\n",
       "1          1     43             0   19     62    0.693548  0.306452  0.000000"
      ]
     },
     "execution_count": 4,
     "metadata": {},
     "output_type": "execute_result"
    }
   ],
   "source": [
    "# Count votes by political preference within each voting type\n",
    "preference_counts = survey_data.groupby([\"evote\", \"party\"]).size().unstack(fill_value=0).reset_index()\n",
    "preference_counts[\"total\"]= preference_counts[['Green', 'Red', \"Invalid vote\"]].sum(axis=1)\n",
    "# Calculate proportions for each political preference within each voting type\n",
    "preference_counts[\"prop_green\"]=preference_counts[\"Green\"]/preference_counts[\"total\"]\n",
    "preference_counts[\"prop_red\"]=preference_counts[\"Red\"]/preference_counts[\"total\"]\n",
    "preference_counts[\"prop_inv\"]=preference_counts[\"Invalid vote\"]/preference_counts[\"total\"]\n",
    "preference_counts.head()"
   ]
  },
  {
   "cell_type": "code",
   "execution_count": 5,
   "metadata": {},
   "outputs": [
    {
     "data": {
      "text/html": [
       "<div>\n",
       "<style scoped>\n",
       "    .dataframe tbody tr th:only-of-type {\n",
       "        vertical-align: middle;\n",
       "    }\n",
       "\n",
       "    .dataframe tbody tr th {\n",
       "        vertical-align: top;\n",
       "    }\n",
       "\n",
       "    .dataframe thead th {\n",
       "        text-align: right;\n",
       "    }\n",
       "</style>\n",
       "<table border=\"1\" class=\"dataframe\">\n",
       "  <thead>\n",
       "    <tr style=\"text-align: right;\">\n",
       "      <th></th>\n",
       "      <th>where_voting</th>\n",
       "      <th>Red</th>\n",
       "      <th>Green</th>\n",
       "      <th>Invalid ballots</th>\n",
       "      <th>Total</th>\n",
       "      <th>prop_green</th>\n",
       "      <th>prop_red</th>\n",
       "      <th>prop_inv</th>\n",
       "    </tr>\n",
       "  </thead>\n",
       "  <tbody>\n",
       "    <tr>\n",
       "      <th>0</th>\n",
       "      <td>E-votes</td>\n",
       "      <td>489</td>\n",
       "      <td>913</td>\n",
       "      <td>28</td>\n",
       "      <td>1430</td>\n",
       "      <td>0.638462</td>\n",
       "      <td>0.341958</td>\n",
       "      <td>0.019580</td>\n",
       "    </tr>\n",
       "    <tr>\n",
       "      <th>1</th>\n",
       "      <td>Polling station</td>\n",
       "      <td>273</td>\n",
       "      <td>475</td>\n",
       "      <td>12</td>\n",
       "      <td>760</td>\n",
       "      <td>0.625000</td>\n",
       "      <td>0.359211</td>\n",
       "      <td>0.015789</td>\n",
       "    </tr>\n",
       "  </tbody>\n",
       "</table>\n",
       "</div>"
      ],
      "text/plain": [
       "      where_voting  Red  Green  Invalid ballots  Total  prop_green  prop_red  \\\n",
       "0          E-votes  489    913               28   1430    0.638462  0.341958   \n",
       "1  Polling station  273    475               12    760    0.625000  0.359211   \n",
       "\n",
       "   prop_inv  \n",
       "0  0.019580  \n",
       "1  0.015789  "
      ]
     },
     "execution_count": 5,
     "metadata": {},
     "output_type": "execute_result"
    }
   ],
   "source": [
    "def rename(x): \n",
    "    if \"Polling station\" in x: \n",
    "        return \"Polling station\"\n",
    "    else: \n",
    "        return \"E-votes\"\n",
    "transformed_results_data = results_data.copy()\n",
    "transformed_results_data[\"where_voting\"]= transformed_results_data[\"where_voting\"].apply(lambda x: rename(x))\n",
    "agg_functions = {'Red': 'sum','Green': 'sum', 'Invalid ballots': 'sum' ,'Total': 'sum'  }\n",
    "df_new = transformed_results_data.groupby(transformed_results_data[\"where_voting\"]).aggregate(agg_functions).reset_index()\n",
    "df_new[\"prop_green\"]=df_new[\"Green\"]/df_new[\"Total\"]\n",
    "df_new[\"prop_red\"]=df_new[\"Red\"]/df_new[\"Total\"]\n",
    "df_new[\"prop_inv\"]=df_new[\"Invalid ballots\"]/df_new[\"Total\"]\n",
    "df_new.head()"
   ]
  },
  {
   "cell_type": "markdown",
   "metadata": {},
   "source": [
    "Two sample proportion z-test - one for e-votes and one for polling station to see if the proportion of green votes differs between the survey data and the result data "
   ]
  },
  {
   "cell_type": "code",
   "execution_count": 6,
   "metadata": {},
   "outputs": [
    {
     "name": "stdout",
     "output_type": "stream",
     "text": [
      "Z-score: -0.28337848165736645\n",
      "P-value: 0.7768867217758352\n",
      "False\n"
     ]
    }
   ],
   "source": [
    "# z-test for polling station \n",
    "from statsmodels.stats.proportion import proportions_ztest\n",
    "z_score_p, p_value_p = proportions_ztest([475, 88], [760, 138], alternative='two-sided')\n",
    "\n",
    "print(\"Z-score:\", z_score_p)\n",
    "print(\"P-value:\", p_value_p)\n",
    "print(p_value_p < 0.05)"
   ]
  },
  {
   "cell_type": "code",
   "execution_count": 7,
   "metadata": {},
   "outputs": [
    {
     "name": "stdout",
     "output_type": "stream",
     "text": [
      "Z-score: -0.8850847590713444\n",
      "P-value: 0.37611091887805415\n",
      "False\n"
     ]
    }
   ],
   "source": [
    "# z-test for evotes \n",
    "z_score_e, p_value_e = proportions_ztest([913, 43], [1430, 62], alternative='two-sided')\n",
    "\n",
    "print(\"Z-score:\", z_score_e)\n",
    "print(\"P-value:\", p_value_e)\n",
    "print(p_value_e < 0.05)"
   ]
  },
  {
   "cell_type": "markdown",
   "metadata": {},
   "source": [
    "Chi-squared test "
   ]
  },
  {
   "cell_type": "code",
   "execution_count": 11,
   "metadata": {},
   "outputs": [
    {
     "data": {
      "text/plain": [
       "Power_divergenceResult(statistic=0.02802007491159843, pvalue=0.9860876464020224)"
      ]
     },
     "execution_count": 11,
     "metadata": {},
     "output_type": "execute_result"
    }
   ],
   "source": [
    "from scipy.stats import chisquare\n",
    "import numpy as np \n",
    "e_votes_r = np.array(df_new[df_new[\"where_voting\"]==\"E-votes\"][[\"Red\",\"Green\", \"Invalid ballots\"]]/1430).tolist()[0]\n",
    "p_votes_r = np.array(df_new[df_new[\"where_voting\"]==\"Polling station\"][[\"Red\",\"Green\", \"Invalid ballots\"]]).tolist()[0]\n",
    "\n",
    "e_votes_s = np.array(preference_counts[preference_counts[\"evote\"]==1][[\"Red\",\"Green\", \"Invalid vote\"]]/62).tolist()[0]\n",
    "p_votes_s = np.array(preference_counts[preference_counts[\"evote\"]==0][[\"Red\",\"Green\", \"Invalid vote\"]]).tolist()[0]\n",
    "\n",
    "# chi square test for evotes \n",
    "chisquare(f_obs=e_votes_s, f_exp=e_votes_r)\n",
    "# data = pd.DataFrame({\n",
    "#     \"Evotes_results\": e_votes_r,\n",
    "#     \"Evotes_survey\": e_votes_s\n",
    "# })"
   ]
  },
  {
   "cell_type": "markdown",
   "metadata": {},
   "source": [
    "##### (B) Is there a significant difference between political preferences of the voters depending on their demographic attributes recorded in the survey (that is, age, gender, education level…)?"
   ]
  },
  {
   "cell_type": "code",
   "execution_count": null,
   "metadata": {},
   "outputs": [
    {
     "data": {
      "text/plain": [
       "Index(['name', 'sex', 'evote', 'dob', 'zip', 'education', 'citizenship',\n",
       "       'marital_status', 'party'],\n",
       "      dtype='object')"
      ]
     },
     "execution_count": 9,
     "metadata": {},
     "output_type": "execute_result"
    }
   ],
   "source": [
    "survey_data.columns "
   ]
  },
  {
   "cell_type": "markdown",
   "metadata": {},
   "source": [
    "##### (C) Is there a significant difference between voter’s choice of the voting channel (that is, if they decide to vote either online or in person) depending on their demographic attributes recorded in the survey?"
   ]
  }
 ],
 "metadata": {
  "kernelspec": {
   "display_name": "Python 3",
   "language": "python",
   "name": "python3"
  },
  "language_info": {
   "codemirror_mode": {
    "name": "ipython",
    "version": 3
   },
   "file_extension": ".py",
   "mimetype": "text/x-python",
   "name": "python",
   "nbconvert_exporter": "python",
   "pygments_lexer": "ipython3",
   "version": "3.11.3"
  }
 },
 "nbformat": 4,
 "nbformat_minor": 2
}
