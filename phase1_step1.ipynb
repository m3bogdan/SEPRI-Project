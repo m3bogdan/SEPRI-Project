{
 "cells": [
  {
   "cell_type": "markdown",
   "metadata": {},
   "source": [
    "### Step 1\n",
    "Analyse the data in the raw dataset answering the following questions (note, you are free to choose the suitable methods ofthe analysis yourself, based on your knowledge of e.g. applied statistics or other courses of your study)"
   ]
  },
  {
   "cell_type": "code",
   "execution_count": 135,
   "metadata": {},
   "outputs": [],
   "source": [
    "import pandas as pd\n",
    "from scipy.stats import chisquare\n",
    "import numpy as np \n",
    "from statsmodels.stats.proportion import proportions_ztest\n",
    "from scipy.stats import chi2_contingency\n",
    "import statsmodels.api as sm\n",
    "import matplotlib.pyplot as plt\n",
    "import functions"
   ]
  },
  {
   "cell_type": "code",
   "execution_count": 136,
   "metadata": {},
   "outputs": [],
   "source": [
    "# reading in the data\n",
    "survey_data = pd.read_excel(\"data/private_dataE.xlsx\")\n",
    "results_data = pd.read_excel(\"data/public_data_resultsE.xlsx\")\n",
    "pub_data_register = pd.read_excel('data/public_data_registerE.xlsx')"
   ]
  },
  {
   "cell_type": "markdown",
   "metadata": {},
   "source": [
    "#### Data cleanup"
   ]
  },
  {
   "cell_type": "code",
   "execution_count": 137,
   "metadata": {},
   "outputs": [],
   "source": [
    "# naming the unnamed column to \"where voting\" as it refers to polling stations and evotes\n",
    "results_data = results_data.rename(columns = {\"Unnamed: 0\":\"where_voting\"})\n",
    "\n",
    "# creating a transformed version of the results data for evotes vs polling stations\n",
    "def rename(x): \n",
    "    if \"Polling station\" in x: \n",
    "        return \"Polling station\"\n",
    "    else: \n",
    "        return \"E-votes\"\n",
    "transformed_results_data = results_data.copy()\n",
    "transformed_results_data[\"where_voting\"]= transformed_results_data[\"where_voting\"].apply(lambda x: rename(x))\n",
    "agg_functions = {'Red': 'sum','Green': 'sum', 'Invalid ballots': 'sum' ,'Total': 'sum'  }\n",
    "new_results_data = transformed_results_data.groupby(transformed_results_data[\"where_voting\"]).aggregate(agg_functions).reset_index()"
   ]
  },
  {
   "cell_type": "markdown",
   "metadata": {},
   "source": [
    "### (A) \n",
    "\n",
    "Is there a significant difference between the political preferences as expressed in the survey and the election results for bothelectronic and polling station votes?"
   ]
  },
  {
   "cell_type": "code",
   "execution_count": null,
   "metadata": {},
   "outputs": [
    {
     "data": {
      "text/html": [
       "<div>\n",
       "<style scoped>\n",
       "    .dataframe tbody tr th:only-of-type {\n",
       "        vertical-align: middle;\n",
       "    }\n",
       "\n",
       "    .dataframe tbody tr th {\n",
       "        vertical-align: top;\n",
       "    }\n",
       "\n",
       "    .dataframe thead th {\n",
       "        text-align: right;\n",
       "    }\n",
       "</style>\n",
       "<table border=\"1\" class=\"dataframe\">\n",
       "  <thead>\n",
       "    <tr style=\"text-align: right;\">\n",
       "      <th>party</th>\n",
       "      <th>evote</th>\n",
       "      <th>Green</th>\n",
       "      <th>Invalid vote</th>\n",
       "      <th>Red</th>\n",
       "      <th>total</th>\n",
       "    </tr>\n",
       "  </thead>\n",
       "  <tbody>\n",
       "    <tr>\n",
       "      <th>0</th>\n",
       "      <td>0</td>\n",
       "      <td>88</td>\n",
       "      <td>3</td>\n",
       "      <td>47</td>\n",
       "      <td>138</td>\n",
       "    </tr>\n",
       "    <tr>\n",
       "      <th>1</th>\n",
       "      <td>1</td>\n",
       "      <td>43</td>\n",
       "      <td>0</td>\n",
       "      <td>19</td>\n",
       "      <td>62</td>\n",
       "    </tr>\n",
       "  </tbody>\n",
       "</table>\n",
       "</div>"
      ],
      "text/plain": [
       "party  evote  Green  Invalid vote  Red  total\n",
       "0          0     88             3   47    138\n",
       "1          1     43             0   19     62"
      ]
     },
     "execution_count": 138,
     "metadata": {},
     "output_type": "execute_result"
    }
   ],
   "source": [
    "# Count votes by political preference within each voting type\n",
    "preference_counts = survey_data.groupby([\"evote\", \"party\"]).size().unstack(fill_value=0).reset_index()\n",
    "preference_counts[\"total\"]= preference_counts[['Green', 'Red', \"Invalid vote\"]].sum(axis=1)\n",
    "# Calculate proportions for each political preference within each voting type\n",
    "preference_counts.head()"
   ]
  },
  {
   "cell_type": "code",
   "execution_count": 139,
   "metadata": {},
   "outputs": [
    {
     "data": {
      "text/html": [
       "<div>\n",
       "<style scoped>\n",
       "    .dataframe tbody tr th:only-of-type {\n",
       "        vertical-align: middle;\n",
       "    }\n",
       "\n",
       "    .dataframe tbody tr th {\n",
       "        vertical-align: top;\n",
       "    }\n",
       "\n",
       "    .dataframe thead th {\n",
       "        text-align: right;\n",
       "    }\n",
       "</style>\n",
       "<table border=\"1\" class=\"dataframe\">\n",
       "  <thead>\n",
       "    <tr style=\"text-align: right;\">\n",
       "      <th></th>\n",
       "      <th>where_voting</th>\n",
       "      <th>Red</th>\n",
       "      <th>Green</th>\n",
       "      <th>Invalid ballots</th>\n",
       "      <th>Total</th>\n",
       "    </tr>\n",
       "  </thead>\n",
       "  <tbody>\n",
       "    <tr>\n",
       "      <th>0</th>\n",
       "      <td>E-votes</td>\n",
       "      <td>489</td>\n",
       "      <td>913</td>\n",
       "      <td>28</td>\n",
       "      <td>1430</td>\n",
       "    </tr>\n",
       "    <tr>\n",
       "      <th>1</th>\n",
       "      <td>Polling station</td>\n",
       "      <td>273</td>\n",
       "      <td>475</td>\n",
       "      <td>12</td>\n",
       "      <td>760</td>\n",
       "    </tr>\n",
       "  </tbody>\n",
       "</table>\n",
       "</div>"
      ],
      "text/plain": [
       "      where_voting  Red  Green  Invalid ballots  Total\n",
       "0          E-votes  489    913               28   1430\n",
       "1  Polling station  273    475               12    760"
      ]
     },
     "execution_count": 139,
     "metadata": {},
     "output_type": "execute_result"
    }
   ],
   "source": [
    "# Calculating proportions for political preferences in the public results data\n",
    "new_results_data.head()"
   ]
  },
  {
   "cell_type": "code",
   "execution_count": 140,
   "metadata": {},
   "outputs": [
    {
     "data": {
      "image/png": "[encoded data removed]",
      "text/plain": [
       "<Figure size 640x480 with 1 Axes>"
      ]
     },
     "metadata": {},
     "output_type": "display_data"
    }
   ],
   "source": [
    "# Define a color list for each party\n",
    "party_colors = [\"green\", \"gray\", \"red\"]\n",
    "\n",
    "# Plot the survey data\n",
    "plot_data = survey_data.groupby([\"evote\", \"party\"]).size().unstack().plot(kind='bar',color=party_colors)\n"
   ]
  },
  {
   "cell_type": "code",
   "execution_count": 141,
   "metadata": {},
   "outputs": [
    {
     "data": {
      "text/plain": [
       "<Axes: xlabel='where_voting'>"
      ]
     },
     "execution_count": 141,
     "metadata": {},
     "output_type": "execute_result"
    },
    {
     "data": {
      "image/png": "[encoded data removed]",
      "text/plain": [
       "<Figure size 640x480 with 1 Axes>"
      ]
     },
     "metadata": {},
     "output_type": "display_data"
    }
   ],
   "source": [
    "# Plot the results data\n",
    "new_results_data.plot(\n",
    "    kind='bar', \n",
    "    x='where_voting', \n",
    "    y=['Green', 'Invalid ballots', 'Red'], \n",
    "    color=party_colors,\n",
    ")"
   ]
  },
  {
   "cell_type": "markdown",
   "metadata": {},
   "source": [
    "#### Two sample proportion z-test"
   ]
  },
  {
   "cell_type": "code",
   "execution_count": null,
   "metadata": {},
   "outputs": [
    {
     "name": "stdout",
     "output_type": "stream",
     "text": [
      "913 1430 43 62\n"
     ]
    }
   ],
   "source": [
    "result_green_polling = new_results_data.loc[new_results_data['where_voting'] == 'Polling station', 'Green'].iloc[0]\n",
    "result_total_polling = new_results_data.loc[new_results_data['where_voting'] == 'Polling station', 'Total'].iloc[0]\n",
    "survey_green_polling = preference_counts.loc[preference_counts['evote'] == 0, 'Green'].iloc[0]\n",
    "survey_total_polling = preference_counts.loc[preference_counts['evote'] == 0, 'total'].iloc[0]\n",
    "\n",
    "result_green_evotes = new_results_data.loc[new_results_data['where_voting'] == 'E-votes', 'Green'].iloc[0]\n",
    "result_total_evotes = new_results_data.loc[new_results_data['where_voting'] == 'E-votes', 'Total'].iloc[0]\n",
    "survey_green_evotes = preference_counts.loc[preference_counts['evote'] == 1, 'Green'].iloc[0]\n",
    "survey_total_evotes = preference_counts.loc[preference_counts['evote'] == 1, 'total'].iloc[0]\n",
    "\n",
    "print(result_green_evotes, result_total_evotes, survey_green_evotes, survey_total_evotes)\n"
   ]
  },
  {
   "cell_type": "code",
   "execution_count": 143,
   "metadata": {},
   "outputs": [
    {
     "name": "stdout",
     "output_type": "stream",
     "text": [
      "Z-score: -0.28337848165736645\n",
      "P-value: 0.7768867217758352\n",
      "Is it statistically significant?  No.\n"
     ]
    }
   ],
   "source": [
    "functions.two_sample_z_test(result_green_polling, result_total_polling, survey_green_polling,survey_total_polling )"
   ]
  },
  {
   "cell_type": "code",
   "execution_count": 144,
   "metadata": {},
   "outputs": [
    {
     "name": "stdout",
     "output_type": "stream",
     "text": [
      "Z-score: -0.8850847590713444\n",
      "P-value: 0.37611091887805415\n",
      "Is it statistically significant?  No.\n"
     ]
    }
   ],
   "source": [
    "functions.two_sample_z_test(result_green_evotes, result_total_evotes, survey_green_evotes,survey_total_evotes )"
   ]
  },
  {
   "cell_type": "markdown",
   "metadata": {},
   "source": [
    "#### Chi-squared test"
   ]
  },
  {
   "cell_type": "code",
   "execution_count": 145,
   "metadata": {},
   "outputs": [],
   "source": [
    "contingency_table_evote = pd.crosstab(survey_data['evote'], survey_data['party'])\n",
    "contingency_table_evote.columns.name = None \n",
    "contingency_table_evote= contingency_table_evote.reset_index()\n",
    "contingency_table_evote = contingency_table_evote.rename(columns = {\"evote\":\"where_voting\"})\n",
    "contingency_table_evote = contingency_table_evote.rename(columns = {\"Invalid vote\":\"Invalid ballots\"})\n",
    "contingency_table_evote.loc[contingency_table_evote[\"where_voting\"] == 1, \"where_voting\"] = \"E-votes_s\"\n",
    "contingency_table_evote.loc[contingency_table_evote[\"where_voting\"] == 0, \"where_voting\"] = \"Polling station_s\"\n",
    "evote_survey = contingency_table_evote.loc[1]\n",
    "polling_survey = contingency_table_evote.loc[0]"
   ]
  },
  {
   "cell_type": "code",
   "execution_count": 160,
   "metadata": {},
   "outputs": [],
   "source": [
    "new_results_data.loc[new_results_data[\"where_voting\"] == \"E-votes\", \"where_voting\"] = \"E-votes_r\"\n",
    "new_results_data.loc[new_results_data[\"where_voting\"] == \"Polling station\", \"where_voting\"] = \"Polling station_r\"\n",
    "new_results_data = new_results_data[[\"where_voting\", \"Red\", \"Green\",\"Invalid ballots\"]]\n",
    "evote_results = new_results_data.loc[0]\n",
    "polling_results = new_results_data.loc[1]"
   ]
  },
  {
   "cell_type": "code",
   "execution_count": 161,
   "metadata": {},
   "outputs": [
    {
     "name": "stdout",
     "output_type": "stream",
     "text": [
      "Polling station\n",
      "Chi-square Test Results for Gender vs Political Preference\n",
      "Chi-square statistic: 0.39122741032464753\n",
      "p-value: 0.8223298351007018\n",
      "Evotes\n",
      "Chi-square Test Results for Gender vs Political Preference\n",
      "Chi-square statistic: 1.715440997596452\n",
      "p-value: 0.42412778103046767\n"
     ]
    },
    {
     "name": "stderr",
     "output_type": "stream",
     "text": [
      "C:\\Users\\obe\\AppData\\Local\\Temp\\ipykernel_17400\\4278227953.py:2: FutureWarning: The frame.append method is deprecated and will be removed from pandas in a future version. Use pandas.concat instead.\n",
      "  df_evote=df_evote.append(evote_results)\n",
      "C:\\Users\\obe\\AppData\\Local\\Temp\\ipykernel_17400\\4278227953.py:3: FutureWarning: The frame.append method is deprecated and will be removed from pandas in a future version. Use pandas.concat instead.\n",
      "  df_evote=df_evote.append(evote_survey)\n",
      "C:\\Users\\obe\\AppData\\Local\\Temp\\ipykernel_17400\\4278227953.py:7: FutureWarning: The frame.append method is deprecated and will be removed from pandas in a future version. Use pandas.concat instead.\n",
      "  df_polling=df_polling.append(polling_results)\n",
      "C:\\Users\\obe\\AppData\\Local\\Temp\\ipykernel_17400\\4278227953.py:8: FutureWarning: The frame.append method is deprecated and will be removed from pandas in a future version. Use pandas.concat instead.\n",
      "  df_polling=df_polling.append(polling_survey)\n"
     ]
    }
   ],
   "source": [
    "df_evote = pd.DataFrame()\n",
    "df_evote=df_evote.append(evote_results)\n",
    "df_evote=df_evote.append(evote_survey)\n",
    "df_evote = df_evote.set_index('where_voting')\n",
    "\n",
    "df_polling = pd.DataFrame()\n",
    "df_polling=df_polling.append(polling_results)\n",
    "df_polling=df_polling.append(polling_survey)\n",
    "df_polling = df_polling.set_index('where_voting')\n",
    "\n",
    "# polling station \n",
    "print(\"Polling station\")\n",
    "from scipy.stats import chi2_contingency\n",
    "chi2, p_value, dof, expected = chi2_contingency(df_polling)\n",
    "print(\"Chi-square Test Results for Gender vs Political Preference\")\n",
    "print(\"Chi-square statistic:\", chi2)\n",
    "print(\"p-value:\", p_value)\n",
    "\n",
    "# evotes \n",
    "print(\"Evotes\")\n",
    "from scipy.stats import chi2_contingency\n",
    "chi2, p_value, dof, expected = chi2_contingency(df_evote)\n",
    "print(\"Chi-square Test Results for Gender vs Political Preference\")\n",
    "print(\"Chi-square statistic:\", chi2)\n",
    "print(\"p-value:\", p_value)"
   ]
  },
  {
   "cell_type": "markdown",
   "metadata": {},
   "source": [
    "### (B) \n",
    "\n",
    "Is there a significant difference between political preferences of the voters depending on their demographic attributes recorded inthe survey (that is, age, gender, education level...)?"
   ]
  },
  {
   "cell_type": "code",
   "execution_count": 162,
   "metadata": {},
   "outputs": [
    {
     "name": "stdout",
     "output_type": "stream",
     "text": [
      "Chi-square Test Results for sex vs party\n",
      "Chi-square statistic: 1.0948595723439902\n",
      "p-value: 0.578434602059867\n"
     ]
    }
   ],
   "source": [
    "functions.chi2(survey_data['sex'], survey_data['party'])"
   ]
  },
  {
   "cell_type": "code",
   "execution_count": 163,
   "metadata": {},
   "outputs": [
    {
     "name": "stdout",
     "output_type": "stream",
     "text": [
      "Chi-square Test Results for education vs party\n",
      "Chi-square statistic: 34.70051433812302\n",
      "p-value: 0.0043666219362705665\n"
     ]
    }
   ],
   "source": [
    "functions.chi2(survey_data['education'], survey_data['party'])"
   ]
  },
  {
   "cell_type": "code",
   "execution_count": 164,
   "metadata": {},
   "outputs": [
    {
     "name": "stdout",
     "output_type": "stream",
     "text": [
      "Chi-square Test Results for age vs party\n",
      "Chi-square statistic: 130.03690118193933\n",
      "p-value: 0.5806961048843412\n"
     ]
    }
   ],
   "source": [
    "survey_data['age'] = 2024 - survey_data['dob'].dt.year\n",
    "functions.chi2(survey_data['age'], survey_data['party'])"
   ]
  },
  {
   "cell_type": "markdown",
   "metadata": {},
   "source": [
    "### (C) \n",
    "\n",
    "Is there a significant difference between voter’s choice of the voting channel (that is, if they decide to vote either online or inperson) depending on their demographic attributes recorded in the survey?"
   ]
  },
  {
   "cell_type": "code",
   "execution_count": 165,
   "metadata": {},
   "outputs": [
    {
     "name": "stdout",
     "output_type": "stream",
     "text": [
      "Chi-square Test Results for sex vs evote\n",
      "Chi-square statistic: 2.6379263431645796\n",
      "p-value: 0.10433965288985117\n"
     ]
    }
   ],
   "source": [
    "functions.chi2(survey_data['sex'], survey_data['evote'])"
   ]
  },
  {
   "cell_type": "code",
   "execution_count": 167,
   "metadata": {},
   "outputs": [
    {
     "name": "stdout",
     "output_type": "stream",
     "text": [
      "Chi-square Test Results for education vs evote\n",
      "Chi-square statistic: 8.784052225187445\n",
      "p-value: 0.36083942749998765\n"
     ]
    }
   ],
   "source": [
    "functions.chi2(survey_data['education'], survey_data['evote'])"
   ]
  },
  {
   "cell_type": "code",
   "execution_count": 168,
   "metadata": {},
   "outputs": [
    {
     "name": "stdout",
     "output_type": "stream",
     "text": [
      "Chi-square Test Results for age vs evote\n",
      "Chi-square statistic: 63.97738150893831\n",
      "p-value: 0.5821109942082197\n"
     ]
    }
   ],
   "source": [
    "functions.chi2(survey_data['age'], survey_data['evote'])"
   ]
  }
 ],
 "metadata": {
  "kernelspec": {
   "display_name": "base",
   "language": "python",
   "name": "python3"
  },
  "language_info": {
   "codemirror_mode": {
    "name": "ipython",
    "version": 3
   },
   "file_extension": ".py",
   "mimetype": "text/x-python",
   "name": "python",
   "nbconvert_exporter": "python",
   "pygments_lexer": "ipython3",
   "version": "3.10.9"
  }
 },
 "nbformat": 4,
 "nbformat_minor": 2
}
