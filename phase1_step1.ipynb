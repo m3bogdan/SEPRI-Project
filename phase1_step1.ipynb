{
 "cells": [
  {
   "cell_type": "markdown",
   "metadata": {},
   "source": [
    "Analyse the data in the raw dataset answering the following questions (note, you are free to choose the suitable methods of the analysis yourself, based on your knowledge of e.g. applied statistics or other courses of your study):\n",
    "\n",
    "(A) Is there a significant difference between the political preferences as expressed in the survey and the election results for both electronic and polling station votes?\n",
    "\n",
    "(B) Is there a significant difference between political preferences of the voters depending on their demographic attributes recorded in the survey (that is, age, gender, education level…)?\n",
    "\n",
    "(C) Is there a significant difference between voter’s choice of the voting channel (that is, if they decide to vote either online or in person) depending on their demographic attributes recorded in the survey?"
   ]
  },
  {
   "cell_type": "code",
   "execution_count": 9,
   "metadata": {},
   "outputs": [],
   "source": [
    "import pandas as pd\n",
    "from scipy.stats import chi2_contingency\n",
    "import statsmodels.api as sm"
   ]
  },
  {
   "cell_type": "code",
   "execution_count": 3,
   "metadata": {},
   "outputs": [],
   "source": [
    "#load the excel data\n",
    "survey_data = pd.read_excel('private_dataE.xlsx')\n",
    "pub_data_results = pd.read_excel('public_data_resultsE.xlsx')\n",
    "pub_data_register = pd.read_excel('public_data_registerE.xlsx')"
   ]
  },
  {
   "cell_type": "code",
   "execution_count": 7,
   "metadata": {},
   "outputs": [
    {
     "name": "stdout",
     "output_type": "stream",
     "text": [
      "Chi-square Test Results for Gender vs Political Preference\n",
      "Chi-square statistic: 1.0948595723439902\n",
      "p-value: 0.578434602059867\n",
      "\n",
      "Chi-square Test Results for Education vs Political Preference\n",
      "Chi-square statistic: 34.70051433812302\n",
      "p-value: 0.0043666219362705665\n",
      "\n",
      "Chi-square Test Results for Age vs Political Preference\n",
      "Chi-square statistic: 130.03690118193933\n",
      "p-value: 0.5806961048843412\n"
     ]
    }
   ],
   "source": [
    "### B)\n",
    "\n",
    "contingency_table_gender = pd.crosstab(survey_data['sex'], survey_data['party'])\n",
    "chi2, p_value, dof, expected = chi2_contingency(contingency_table_gender)\n",
    "print(\"Chi-square Test Results for Gender vs Political Preference\")\n",
    "print(\"Chi-square statistic:\", chi2)\n",
    "print(\"p-value:\", p_value)\n",
    "\n",
    "contingency_table_education = pd.crosstab(survey_data['education'], survey_data['party'])\n",
    "chi2, p_value, dof, expected = chi2_contingency(contingency_table_education)\n",
    "print(\"\\nChi-square Test Results for Education vs Political Preference\")\n",
    "print(\"Chi-square statistic:\", chi2)\n",
    "print(\"p-value:\", p_value)\n",
    "\n",
    "#transform date of birth to age\n",
    "survey_data['age'] = 2024 - survey_data['dob'].dt.year\n",
    "contingency_table_age = pd.crosstab(survey_data['age'], survey_data['party'])\n",
    "chi2, p_value, dof, expected = chi2_contingency(contingency_table_age)\n",
    "print(\"\\nChi-square Test Results for Age vs Political Preference\")\n",
    "print(\"Chi-square statistic:\", chi2)\n",
    "print(\"p-value:\", p_value)\n"
   ]
  },
  {
   "cell_type": "code",
   "execution_count": 11,
   "metadata": {},
   "outputs": [
    {
     "name": "stdout",
     "output_type": "stream",
     "text": [
      "Warning: Maximum number of iterations has been exceeded.\n",
      "         Current function value: 0.513380\n",
      "         Iterations: 35\n",
      "                                Logit Regression Results                               \n",
      "=======================================================================================\n",
      "Dep. Variable:     Political_Preference_Binary   No. Observations:                  200\n",
      "Model:                                   Logit   Df Residuals:                      189\n",
      "Method:                                    MLE   Df Model:                           10\n",
      "Date:                         Mon, 04 Nov 2024   Pseudo R-squ.:                  0.2032\n",
      "Time:                                 18:44:15   Log-Likelihood:                -102.68\n",
      "converged:                               False   LL-Null:                       -128.86\n",
      "Covariance Type:                     nonrobust   LLR p-value:                 9.760e-08\n",
      "=====================================================================================================================\n",
      "                                                        coef    std err          z      P>|z|      [0.025      0.975]\n",
      "---------------------------------------------------------------------------------------------------------------------\n",
      "const                                                 1.2705      1.065      1.193      0.233      -0.817       3.358\n",
      "age                                                  -0.0422      0.010     -4.241      0.000      -0.062      -0.023\n",
      "sex_Male                                              0.5605      0.358      1.564      0.118      -0.142       1.263\n",
      "education_Masters programmes                          0.1460      1.170      0.125      0.901      -2.147       2.439\n",
      "education_Not stated                                 21.9106   2.62e+04      0.001      0.999   -5.13e+04    5.14e+04\n",
      "education_PhD programmes                              0.3816      1.430      0.267      0.790      -2.420       3.184\n",
      "education_Primary education                           1.9335      1.118      1.730      0.084      -0.257       4.125\n",
      "education_Short cycle higher education                1.3878      1.248      1.112      0.266      -1.058       3.834\n",
      "education_Upper secondary education                   2.1748      1.235      1.762      0.078      -0.245       4.595\n",
      "education_Vocational Education and Training (VET)     1.9247      1.082      1.779      0.075      -0.196       4.045\n",
      "education_Vocational bachelors educations            -0.0032      1.098     -0.003      0.998      -2.156       2.149\n",
      "=====================================================================================================================\n"
     ]
    },
    {
     "name": "stderr",
     "output_type": "stream",
     "text": [
      "/Library/Frameworks/Python.framework/Versions/3.10/lib/python3.10/site-packages/statsmodels/base/model.py:607: ConvergenceWarning: Maximum Likelihood optimization failed to converge. Check mle_retvals\n",
      "  warnings.warn(\"Maximum Likelihood optimization failed to \"\n"
     ]
    }
   ],
   "source": [
    "# Prepare the data\n",
    "survey_data['Political_Preference_Binary'] = (survey_data['party'] == 'Green').astype(int)\n",
    "\n",
    "# Define independent variables (e.g., age, gender, education)\n",
    "X = survey_data[['age', 'sex', 'education']]\n",
    "X = pd.get_dummies(X, drop_first=True)  # Convert categorical vars to binary (dummy variables)\n",
    "X = sm.add_constant(X)  # Add constant for the intercept\n",
    "\n",
    "# Define dependent variable\n",
    "y = survey_data['Political_Preference_Binary']\n",
    "\n",
    "# Fit logistic regression\n",
    "model = sm.Logit(y, X).fit()\n",
    "print(model.summary())"
   ]
  },
  {
   "cell_type": "code",
   "execution_count": 8,
   "metadata": {},
   "outputs": [
    {
     "name": "stdout",
     "output_type": "stream",
     "text": [
      "Chi-square Test Results for Gender vs Voting Channel\n",
      "Chi-square statistic: 2.6379263431645796\n",
      "p-value: 0.10433965288985117\n",
      "\n",
      "Chi-square Test Results for Education vs Voting Channel\n",
      "Chi-square statistic: 8.784052225187445\n",
      "p-value: 0.36083942749998765\n",
      "\n",
      "Chi-square Test Results for Age vs Voting Channel\n",
      "Chi-square statistic: 63.97738150893831\n",
      "p-value: 0.5821109942082197\n"
     ]
    }
   ],
   "source": [
    "### C)\n",
    "# Example: Chi-square test for voting channel by gender\n",
    "contingency_table_channel_gender = pd.crosstab(survey_data['sex'], survey_data['evote'])\n",
    "chi2, p_value, dof, expected = chi2_contingency(contingency_table_channel_gender)\n",
    "print(\"Chi-square Test Results for Gender vs Voting Channel\")\n",
    "print(\"Chi-square statistic:\", chi2)\n",
    "print(\"p-value:\", p_value)\n",
    "\n",
    "contingency_table_channel_education = pd.crosstab(survey_data['education'], survey_data['evote'])\n",
    "chi2, p_value, dof, expected = chi2_contingency(contingency_table_channel_education)\n",
    "print(\"\\nChi-square Test Results for Education vs Voting Channel\")\n",
    "print(\"Chi-square statistic:\", chi2)\n",
    "print(\"p-value:\", p_value)\n",
    "\n",
    "contingency_table_channel_age = pd.crosstab(survey_data['age'], survey_data['evote'])\n",
    "chi2, p_value, dof, expected = chi2_contingency(contingency_table_channel_age)\n",
    "print(\"\\nChi-square Test Results for Age vs Voting Channel\")\n",
    "print(\"Chi-square statistic:\", chi2)\n",
    "print(\"p-value:\", p_value)"
   ]
  },
  {
   "cell_type": "code",
   "execution_count": 10,
   "metadata": {},
   "outputs": [
    {
     "name": "stdout",
     "output_type": "stream",
     "text": [
      "Warning: Maximum number of iterations has been exceeded.\n",
      "         Current function value: 0.584308\n",
      "         Iterations: 35\n",
      "                           Logit Regression Results                           \n",
      "==============================================================================\n",
      "Dep. Variable:                  evote   No. Observations:                  200\n",
      "Model:                          Logit   Df Residuals:                      189\n",
      "Method:                           MLE   Df Model:                           10\n",
      "Date:                Mon, 04 Nov 2024   Pseudo R-squ.:                 0.05620\n",
      "Time:                        18:43:13   Log-Likelihood:                -116.86\n",
      "converged:                      False   LL-Null:                       -123.82\n",
      "Covariance Type:            nonrobust   LLR p-value:                    0.1768\n",
      "=====================================================================================================================\n",
      "                                                        coef    std err          z      P>|z|      [0.025      0.975]\n",
      "---------------------------------------------------------------------------------------------------------------------\n",
      "const                                                 0.2960      1.052      0.281      0.778      -1.766       2.358\n",
      "age                                                  -0.0124      0.009     -1.354      0.176      -0.030       0.006\n",
      "sex_Male                                              0.4791      0.326      1.471      0.141      -0.159       1.117\n",
      "education_Masters programmes                         -0.2206      1.153     -0.191      0.848      -2.480       2.039\n",
      "education_Not stated                                -14.6856    815.764     -0.018      0.986   -1613.554    1584.182\n",
      "education_PhD programmes                             -0.9915      1.534     -0.646      0.518      -3.999       2.016\n",
      "education_Primary education                          -1.5161      1.093     -1.387      0.166      -3.659       0.627\n",
      "education_Short cycle higher education               -0.0322      1.193     -0.027      0.978      -2.370       2.306\n",
      "education_Upper secondary education                  -0.8290      1.145     -0.724      0.469      -3.074       1.416\n",
      "education_Vocational Education and Training (VET)    -0.6181      1.058     -0.584      0.559      -2.691       1.455\n",
      "education_Vocational bachelors educations            -0.4140      1.086     -0.381      0.703      -2.542       1.714\n",
      "=====================================================================================================================\n"
     ]
    },
    {
     "name": "stderr",
     "output_type": "stream",
     "text": [
      "/Library/Frameworks/Python.framework/Versions/3.10/lib/python3.10/site-packages/statsmodels/base/model.py:607: ConvergenceWarning: Maximum Likelihood optimization failed to converge. Check mle_retvals\n",
      "  warnings.warn(\"Maximum Likelihood optimization failed to \"\n"
     ]
    }
   ],
   "source": [
    "# Define independent variables (demographics)\n",
    "X = survey_data[['age', 'sex', 'education']]\n",
    "X = pd.get_dummies(X, drop_first=True)  # Create dummy variables for categorical data\n",
    "X = sm.add_constant(X)\n",
    "\n",
    "# Define the dependent variable\n",
    "y = survey_data['evote']\n",
    "\n",
    "# Fit the logistic regression model\n",
    "model = sm.Logit(y, X).fit()\n",
    "print(model.summary())"
   ]
  },
  {
   "cell_type": "markdown",
   "metadata": {},
   "source": []
  }
 ],
 "metadata": {
  "kernelspec": {
   "display_name": "Python 3",
   "language": "python",
   "name": "python3"
  },
  "language_info": {
   "codemirror_mode": {
    "name": "ipython",
    "version": 3
   },
   "file_extension": ".py",
   "mimetype": "text/x-python",
   "name": "python",
   "nbconvert_exporter": "python",
   "pygments_lexer": "ipython3",
   "version": "3.10.3"
  }
 },
 "nbformat": 4,
 "nbformat_minor": 2
}
