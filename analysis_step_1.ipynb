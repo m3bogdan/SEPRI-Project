{
 "cells": [
  {
   "cell_type": "markdown",
   "metadata": {},
   "source": [
    "### Step 1\n",
    "Analyse the data in the raw dataset answering the following questions (note, you are free to choose the suitable methods ofthe analysis yourself, based on your knowledge of e.g. applied statistics or other courses of your study)"
   ]
  },
  {
   "cell_type": "code",
   "execution_count": null,
   "metadata": {},
   "outputs": [],
   "source": [
    "import pandas as pd\n",
    "from scipy.stats import chisquare\n",
    "import numpy as np \n",
    "from statsmodels.stats.proportion import proportions_ztest\n",
    "from scipy.stats import chi2_contingency\n",
    "import statsmodels.api as sm\n",
    "import matplotlib.pyplot as plt"
   ]
  },
  {
   "cell_type": "code",
   "execution_count": 2,
   "metadata": {},
   "outputs": [],
   "source": [
    "# reading in the data\n",
    "\n",
    "survey_data = pd.read_excel(\"data/private_dataE.xlsx\")\n",
    "results_data = pd.read_excel(\"data/public_data_resultsE.xlsx\")\n",
    "pub_data_register = pd.read_excel('data/public_data_registerE.xlsx')"
   ]
  },
  {
   "cell_type": "markdown",
   "metadata": {},
   "source": [
    "#### Data cleanup"
   ]
  },
  {
   "cell_type": "code",
   "execution_count": 3,
   "metadata": {},
   "outputs": [],
   "source": [
    "# naming the unnamed column to \"where voting\" as it refers to polling stations and evotes\n",
    "results_data = results_data.rename(columns = {\"Unnamed: 0\":\"where_voting\"})\n",
    "\n",
    "# creating a transformed version of the results data for evotes vs polling stations\n",
    "def rename(x): \n",
    "    if \"Polling station\" in x: \n",
    "        return \"Polling station\"\n",
    "    else: \n",
    "        return \"E-votes\"\n",
    "transformed_results_data = results_data.copy()\n",
    "transformed_results_data[\"where_voting\"]= transformed_results_data[\"where_voting\"].apply(lambda x: rename(x))\n",
    "agg_functions = {'Red': 'sum','Green': 'sum', 'Invalid ballots': 'sum' ,'Total': 'sum'  }\n",
    "df_new = transformed_results_data.groupby(transformed_results_data[\"where_voting\"]).aggregate(agg_functions).reset_index()"
   ]
  },
  {
   "cell_type": "markdown",
   "metadata": {},
   "source": [
    "### (A) \n",
    "\n",
    "Is there a significant difference between the political preferences as expressed in the survey and the election results for bothelectronic and polling station votes?"
   ]
  },
  {
   "cell_type": "code",
   "execution_count": 4,
   "metadata": {},
   "outputs": [
    {
     "data": {
      "text/html": [
       "<div>\n",
       "<style scoped>\n",
       "    .dataframe tbody tr th:only-of-type {\n",
       "        vertical-align: middle;\n",
       "    }\n",
       "\n",
       "    .dataframe tbody tr th {\n",
       "        vertical-align: top;\n",
       "    }\n",
       "\n",
       "    .dataframe thead th {\n",
       "        text-align: right;\n",
       "    }\n",
       "</style>\n",
       "<table border=\"1\" class=\"dataframe\">\n",
       "  <thead>\n",
       "    <tr style=\"text-align: right;\">\n",
       "      <th>party</th>\n",
       "      <th>evote</th>\n",
       "      <th>Green</th>\n",
       "      <th>Invalid vote</th>\n",
       "      <th>Red</th>\n",
       "      <th>total</th>\n",
       "      <th>prop_green</th>\n",
       "      <th>prop_red</th>\n",
       "      <th>prop_inv</th>\n",
       "    </tr>\n",
       "  </thead>\n",
       "  <tbody>\n",
       "    <tr>\n",
       "      <th>0</th>\n",
       "      <td>0</td>\n",
       "      <td>88</td>\n",
       "      <td>3</td>\n",
       "      <td>47</td>\n",
       "      <td>138</td>\n",
       "      <td>0.637681</td>\n",
       "      <td>0.340580</td>\n",
       "      <td>0.021739</td>\n",
       "    </tr>\n",
       "    <tr>\n",
       "      <th>1</th>\n",
       "      <td>1</td>\n",
       "      <td>43</td>\n",
       "      <td>0</td>\n",
       "      <td>19</td>\n",
       "      <td>62</td>\n",
       "      <td>0.693548</td>\n",
       "      <td>0.306452</td>\n",
       "      <td>0.000000</td>\n",
       "    </tr>\n",
       "  </tbody>\n",
       "</table>\n",
       "</div>"
      ],
      "text/plain": [
       "party  evote  Green  Invalid vote  Red  total  prop_green  prop_red  prop_inv\n",
       "0          0     88             3   47    138    0.637681  0.340580  0.021739\n",
       "1          1     43             0   19     62    0.693548  0.306452  0.000000"
      ]
     },
     "execution_count": 4,
     "metadata": {},
     "output_type": "execute_result"
    }
   ],
   "source": [
    "# Count votes by political preference within each voting type\n",
    "preference_counts = survey_data.groupby([\"evote\", \"party\"]).size().unstack(fill_value=0).reset_index()\n",
    "preference_counts[\"total\"]= preference_counts[['Green', 'Red', \"Invalid vote\"]].sum(axis=1)\n",
    "# Calculate proportions for each political preference within each voting type\n",
    "preference_counts[\"prop_green\"]=preference_counts[\"Green\"]/preference_counts[\"total\"]\n",
    "preference_counts[\"prop_red\"]=preference_counts[\"Red\"]/preference_counts[\"total\"]\n",
    "preference_counts[\"prop_inv\"]=preference_counts[\"Invalid vote\"]/preference_counts[\"total\"]\n",
    "preference_counts.head()"
   ]
  },
  {
   "cell_type": "code",
   "execution_count": 5,
   "metadata": {},
   "outputs": [
    {
     "data": {
      "text/html": [
       "<div>\n",
       "<style scoped>\n",
       "    .dataframe tbody tr th:only-of-type {\n",
       "        vertical-align: middle;\n",
       "    }\n",
       "\n",
       "    .dataframe tbody tr th {\n",
       "        vertical-align: top;\n",
       "    }\n",
       "\n",
       "    .dataframe thead th {\n",
       "        text-align: right;\n",
       "    }\n",
       "</style>\n",
       "<table border=\"1\" class=\"dataframe\">\n",
       "  <thead>\n",
       "    <tr style=\"text-align: right;\">\n",
       "      <th></th>\n",
       "      <th>where_voting</th>\n",
       "      <th>Red</th>\n",
       "      <th>Green</th>\n",
       "      <th>Invalid ballots</th>\n",
       "      <th>Total</th>\n",
       "      <th>prop_green</th>\n",
       "      <th>prop_red</th>\n",
       "      <th>prop_inv</th>\n",
       "    </tr>\n",
       "  </thead>\n",
       "  <tbody>\n",
       "    <tr>\n",
       "      <th>0</th>\n",
       "      <td>E-votes</td>\n",
       "      <td>489</td>\n",
       "      <td>913</td>\n",
       "      <td>28</td>\n",
       "      <td>1430</td>\n",
       "      <td>0.638462</td>\n",
       "      <td>0.341958</td>\n",
       "      <td>0.019580</td>\n",
       "    </tr>\n",
       "    <tr>\n",
       "      <th>1</th>\n",
       "      <td>Polling station</td>\n",
       "      <td>273</td>\n",
       "      <td>475</td>\n",
       "      <td>12</td>\n",
       "      <td>760</td>\n",
       "      <td>0.625000</td>\n",
       "      <td>0.359211</td>\n",
       "      <td>0.015789</td>\n",
       "    </tr>\n",
       "  </tbody>\n",
       "</table>\n",
       "</div>"
      ],
      "text/plain": [
       "      where_voting  Red  Green  Invalid ballots  Total  prop_green  prop_red   \n",
       "0          E-votes  489    913               28   1430    0.638462  0.341958  \\\n",
       "1  Polling station  273    475               12    760    0.625000  0.359211   \n",
       "\n",
       "   prop_inv  \n",
       "0  0.019580  \n",
       "1  0.015789  "
      ]
     },
     "execution_count": 5,
     "metadata": {},
     "output_type": "execute_result"
    }
   ],
   "source": [
    "# Calculating proportions for political preferences in the public results data\n",
    "df_new[\"prop_green\"]=df_new[\"Green\"]/df_new[\"Total\"]\n",
    "df_new[\"prop_red\"]=df_new[\"Red\"]/df_new[\"Total\"]\n",
    "df_new[\"prop_inv\"]=df_new[\"Invalid ballots\"]/df_new[\"Total\"]\n",
    "df_new.head()"
   ]
  },
  {
   "cell_type": "code",
   "execution_count": 32,
   "metadata": {},
   "outputs": [
    {
     "data": {
      "text/html": [
       "<div>\n",
       "<style scoped>\n",
       "    .dataframe tbody tr th:only-of-type {\n",
       "        vertical-align: middle;\n",
       "    }\n",
       "\n",
       "    .dataframe tbody tr th {\n",
       "        vertical-align: top;\n",
       "    }\n",
       "\n",
       "    .dataframe thead th {\n",
       "        text-align: right;\n",
       "    }\n",
       "</style>\n",
       "<table border=\"1\" class=\"dataframe\">\n",
       "  <thead>\n",
       "    <tr style=\"text-align: right;\">\n",
       "      <th></th>\n",
       "      <th>name</th>\n",
       "      <th>sex</th>\n",
       "      <th>evote</th>\n",
       "      <th>dob</th>\n",
       "      <th>zip</th>\n",
       "      <th>education</th>\n",
       "      <th>citizenship</th>\n",
       "      <th>marital_status</th>\n",
       "      <th>party</th>\n",
       "    </tr>\n",
       "  </thead>\n",
       "  <tbody>\n",
       "    <tr>\n",
       "      <th>0</th>\n",
       "      <td>Morris, Emily</td>\n",
       "      <td>Female</td>\n",
       "      <td>0</td>\n",
       "      <td>1977-12-19</td>\n",
       "      <td>2400</td>\n",
       "      <td>Vocational bachelors educations</td>\n",
       "      <td>Denmark</td>\n",
       "      <td>Never married</td>\n",
       "      <td>Red</td>\n",
       "    </tr>\n",
       "    <tr>\n",
       "      <th>1</th>\n",
       "      <td>Freda, Michael</td>\n",
       "      <td>Male</td>\n",
       "      <td>1</td>\n",
       "      <td>1986-12-01</td>\n",
       "      <td>2200</td>\n",
       "      <td>Masters programmes</td>\n",
       "      <td>Denmark</td>\n",
       "      <td>Married/separated</td>\n",
       "      <td>Green</td>\n",
       "    </tr>\n",
       "    <tr>\n",
       "      <th>2</th>\n",
       "      <td>Goosby, Emil</td>\n",
       "      <td>Male</td>\n",
       "      <td>1</td>\n",
       "      <td>1997-08-10</td>\n",
       "      <td>2200</td>\n",
       "      <td>Vocational bachelors educations</td>\n",
       "      <td>Denmark</td>\n",
       "      <td>Never married</td>\n",
       "      <td>Green</td>\n",
       "    </tr>\n",
       "    <tr>\n",
       "      <th>3</th>\n",
       "      <td>Alcantar, Amanda</td>\n",
       "      <td>Female</td>\n",
       "      <td>0</td>\n",
       "      <td>1965-01-18</td>\n",
       "      <td>2200</td>\n",
       "      <td>Vocational Education and Training (VET)</td>\n",
       "      <td>Denmark</td>\n",
       "      <td>Divorced</td>\n",
       "      <td>Green</td>\n",
       "    </tr>\n",
       "    <tr>\n",
       "      <th>4</th>\n",
       "      <td>Havick, Justin</td>\n",
       "      <td>Male</td>\n",
       "      <td>0</td>\n",
       "      <td>1958-10-13</td>\n",
       "      <td>2200</td>\n",
       "      <td>Vocational Education and Training (VET)</td>\n",
       "      <td>Denmark</td>\n",
       "      <td>Divorced</td>\n",
       "      <td>Green</td>\n",
       "    </tr>\n",
       "    <tr>\n",
       "      <th>...</th>\n",
       "      <td>...</td>\n",
       "      <td>...</td>\n",
       "      <td>...</td>\n",
       "      <td>...</td>\n",
       "      <td>...</td>\n",
       "      <td>...</td>\n",
       "      <td>...</td>\n",
       "      <td>...</td>\n",
       "      <td>...</td>\n",
       "    </tr>\n",
       "    <tr>\n",
       "      <th>195</th>\n",
       "      <td>Weaver, Sabrina</td>\n",
       "      <td>Female</td>\n",
       "      <td>0</td>\n",
       "      <td>1960-10-12</td>\n",
       "      <td>2200</td>\n",
       "      <td>Vocational Education and Training (VET)</td>\n",
       "      <td>Denmark</td>\n",
       "      <td>Married/separated</td>\n",
       "      <td>Green</td>\n",
       "    </tr>\n",
       "    <tr>\n",
       "      <th>196</th>\n",
       "      <td>el-Fawaz, Imtinaan</td>\n",
       "      <td>Female</td>\n",
       "      <td>0</td>\n",
       "      <td>1961-10-28</td>\n",
       "      <td>2400</td>\n",
       "      <td>Vocational Education and Training (VET)</td>\n",
       "      <td>Denmark</td>\n",
       "      <td>Married/separated</td>\n",
       "      <td>Green</td>\n",
       "    </tr>\n",
       "    <tr>\n",
       "      <th>197</th>\n",
       "      <td>Marquez, Nickolas</td>\n",
       "      <td>Male</td>\n",
       "      <td>1</td>\n",
       "      <td>1997-06-08</td>\n",
       "      <td>2300</td>\n",
       "      <td>Primary education</td>\n",
       "      <td>Denmark</td>\n",
       "      <td>Never married</td>\n",
       "      <td>Green</td>\n",
       "    </tr>\n",
       "    <tr>\n",
       "      <th>198</th>\n",
       "      <td>Montoya, Avona</td>\n",
       "      <td>Female</td>\n",
       "      <td>0</td>\n",
       "      <td>2001-06-10</td>\n",
       "      <td>2200</td>\n",
       "      <td>Primary education</td>\n",
       "      <td>Stateless</td>\n",
       "      <td>Never married</td>\n",
       "      <td>Green</td>\n",
       "    </tr>\n",
       "    <tr>\n",
       "      <th>199</th>\n",
       "      <td>Sweeten, Bintou</td>\n",
       "      <td>Female</td>\n",
       "      <td>1</td>\n",
       "      <td>1940-06-30</td>\n",
       "      <td>2200</td>\n",
       "      <td>Vocational Education and Training (VET)</td>\n",
       "      <td>Denmark</td>\n",
       "      <td>Married/separated</td>\n",
       "      <td>Green</td>\n",
       "    </tr>\n",
       "  </tbody>\n",
       "</table>\n",
       "<p>200 rows × 9 columns</p>\n",
       "</div>"
      ],
      "text/plain": [
       "                   name     sex  evote        dob   zip   \n",
       "0         Morris, Emily  Female      0 1977-12-19  2400  \\\n",
       "1        Freda, Michael    Male      1 1986-12-01  2200   \n",
       "2          Goosby, Emil    Male      1 1997-08-10  2200   \n",
       "3      Alcantar, Amanda  Female      0 1965-01-18  2200   \n",
       "4        Havick, Justin    Male      0 1958-10-13  2200   \n",
       "..                  ...     ...    ...        ...   ...   \n",
       "195     Weaver, Sabrina  Female      0 1960-10-12  2200   \n",
       "196  el-Fawaz, Imtinaan  Female      0 1961-10-28  2400   \n",
       "197   Marquez, Nickolas    Male      1 1997-06-08  2300   \n",
       "198      Montoya, Avona  Female      0 2001-06-10  2200   \n",
       "199     Sweeten, Bintou  Female      1 1940-06-30  2200   \n",
       "\n",
       "                                   education citizenship     marital_status   \n",
       "0            Vocational bachelors educations     Denmark      Never married  \\\n",
       "1                         Masters programmes     Denmark  Married/separated   \n",
       "2            Vocational bachelors educations     Denmark      Never married   \n",
       "3    Vocational Education and Training (VET)     Denmark           Divorced   \n",
       "4    Vocational Education and Training (VET)     Denmark           Divorced   \n",
       "..                                       ...         ...                ...   \n",
       "195  Vocational Education and Training (VET)     Denmark  Married/separated   \n",
       "196  Vocational Education and Training (VET)     Denmark  Married/separated   \n",
       "197                        Primary education     Denmark      Never married   \n",
       "198                        Primary education   Stateless      Never married   \n",
       "199  Vocational Education and Training (VET)     Denmark  Married/separated   \n",
       "\n",
       "     party  \n",
       "0      Red  \n",
       "1    Green  \n",
       "2    Green  \n",
       "3    Green  \n",
       "4    Green  \n",
       "..     ...  \n",
       "195  Green  \n",
       "196  Green  \n",
       "197  Green  \n",
       "198  Green  \n",
       "199  Green  \n",
       "\n",
       "[200 rows x 9 columns]"
      ]
     },
     "execution_count": 32,
     "metadata": {},
     "output_type": "execute_result"
    }
   ],
   "source": [
    "survey_data"
   ]
  },
  {
   "cell_type": "code",
   "execution_count": null,
   "metadata": {},
   "outputs": [
    {
     "data": {
      "image/png": "[encoded data removed]",
      "text/plain": [
       "<Figure size 640x480 with 1 Axes>"
      ]
     },
     "metadata": {},
     "output_type": "display_data"
    }
   ],
   "source": [
    "# Define a color list for each party\n",
    "party_colors = [\"green\", \"gray\", \"red\"]\n",
    "\n",
    "# Plot the survey data\n",
    "plot_data = survey_data.groupby([\"evote\", \"party\"]).size().unstack().plot(kind='bar',color=party_colors)\n"
   ]
  },
  {
   "cell_type": "code",
   "execution_count": null,
   "metadata": {},
   "outputs": [
    {
     "data": {
      "text/plain": [
       "<Axes: xlabel='where_voting'>"
      ]
     },
     "execution_count": 91,
     "metadata": {},
     "output_type": "execute_result"
    },
    {
     "data": {
      "image/png": "[encoded data removed]",
      "text/plain": [
       "<Figure size 640x480 with 1 Axes>"
      ]
     },
     "metadata": {},
     "output_type": "display_data"
    }
   ],
   "source": [
    "# Plot the results data\n",
    "df_new.plot(\n",
    "    kind='bar', \n",
    "    x='where_voting', \n",
    "    y=['Green', 'Invalid ballots', 'Red'], \n",
    "    color=party_colors,\n",
    ")"
   ]
  },
  {
   "cell_type": "markdown",
   "metadata": {},
   "source": [
    "#### Two sample proportion z-test"
   ]
  },
  {
   "cell_type": "code",
   "execution_count": 90,
   "metadata": {},
   "outputs": [
    {
     "name": "stdout",
     "output_type": "stream",
     "text": [
      "913 1430 43 62\n"
     ]
    }
   ],
   "source": [
    "result_green_polling = df_new.loc[df_new['where_voting'] == 'Polling station', 'Green'].iloc[0]\n",
    "result_total_polling = df_new.loc[df_new['where_voting'] == 'Polling station', 'Total'].iloc[0]\n",
    "survey_green_polling = preference_counts.loc[preference_counts['evote'] == 0, 'Green'].iloc[0]\n",
    "survey_total_polling = preference_counts.loc[preference_counts['evote'] == 0, 'total'].iloc[0]\n",
    "\n",
    "\n",
    "result_green_evotes = df_new.loc[df_new['where_voting'] == 'E-votes', 'Green'].iloc[0]\n",
    "result_total_evotes = df_new.loc[df_new['where_voting'] == 'E-votes', 'Total'].iloc[0]\n",
    "survey_green_evotes = preference_counts.loc[preference_counts['evote'] == 1, 'Green'].iloc[0]\n",
    "survey_total_evotes = preference_counts.loc[preference_counts['evote'] == 1, 'total'].iloc[0]\n",
    "\n",
    "print(result_green_evotes, result_total_evotes, survey_green_evotes, survey_total_evotes)\n"
   ]
  },
  {
   "cell_type": "code",
   "execution_count": 103,
   "metadata": {},
   "outputs": [],
   "source": [
    "def two_sample_z_test(dataset_1_part, dataset_1_total, dataset_2_part, dataset_2_total):\n",
    "    z_score, p_value = proportions_ztest(\n",
    "        [dataset_1_part, dataset_2_part], [dataset_1_total, dataset_2_total ], alternative='two-sided')\n",
    "    significance = \"\"\n",
    "    if p_value < 0.05:\n",
    "        significance = \"Yes.\"\n",
    "    else:\n",
    "        significance = \"No.\"\n",
    "\n",
    "    print(\"Z-score:\", z_score)\n",
    "    print(\"P-value:\", p_value)\n",
    "    print(\"Is it statistically significant? \",significance)"
   ]
  },
  {
   "cell_type": "code",
   "execution_count": 104,
   "metadata": {},
   "outputs": [
    {
     "name": "stdout",
     "output_type": "stream",
     "text": [
      "Z-score: -0.28337848165736645\n",
      "P-value: 0.7768867217758352\n",
      "Is it statistically significant?  No.\n"
     ]
    }
   ],
   "source": [
    "two_sample_z_test(result_green_polling, result_total_polling, survey_green_polling,survey_total_polling )"
   ]
  },
  {
   "cell_type": "code",
   "execution_count": null,
   "metadata": {},
   "outputs": [
    {
     "name": "stdout",
     "output_type": "stream",
     "text": [
      "Z-score: -0.28337848165736645\n",
      "P-value: 0.7768867217758352\n",
      "False\n"
     ]
    }
   ],
   "source": [
    "# z-test for polling station \n",
    "z_score_p, p_value_p = proportions_ztest([475, 88], [760, 138], alternative='two-sided')\n",
    "\n",
    "print(\"Z-score:\", z_score_p)\n",
    "print(\"P-value:\", p_value_p)\n",
    "print(p_value_p < 0.05)"
   ]
  },
  {
   "cell_type": "code",
   "execution_count": 13,
   "metadata": {},
   "outputs": [
    {
     "name": "stdout",
     "output_type": "stream",
     "text": [
      "Z-score: -0.8850847590713444\n",
      "P-value: 0.37611091887805415\n",
      "False\n"
     ]
    }
   ],
   "source": [
    "# z-test for evotes \n",
    "z_score_e, p_value_e = proportions_ztest([913, 43], [1430, 62], alternative='two-sided')\n",
    "\n",
    "print(\"Z-score:\", z_score_e)\n",
    "print(\"P-value:\", p_value_e)\n",
    "print(p_value_e < 0.05)"
   ]
  },
  {
   "cell_type": "markdown",
   "metadata": {},
   "source": [
    "#### Chi-squared test"
   ]
  },
  {
   "cell_type": "code",
   "execution_count": null,
   "metadata": {},
   "outputs": [
    {
     "data": {
      "text/plain": [
       "Power_divergenceResult(statistic=0.02802007491159843, pvalue=0.9860876464020224)"
      ]
     },
     "execution_count": 14,
     "metadata": {},
     "output_type": "execute_result"
    }
   ],
   "source": [
    "e_votes_r = np.array(df_new[df_new[\"where_voting\"]==\"E-votes\"][[\"Red\",\"Green\", \"Invalid ballots\"]]/1430).tolist()[0]\n",
    "p_votes_r = np.array(df_new[df_new[\"where_voting\"]==\"Polling station\"][[\"Red\",\"Green\", \"Invalid ballots\"]]).tolist()[0]\n",
    "\n",
    "e_votes_s = np.array(preference_counts[preference_counts[\"evote\"]==1][[\"Red\",\"Green\", \"Invalid vote\"]]/62).tolist()[0]\n",
    "p_votes_s = np.array(preference_counts[preference_counts[\"evote\"]==0][[\"Red\",\"Green\", \"Invalid vote\"]]).tolist()[0]\n",
    "\n",
    "# chi square test for evotes \n",
    "chisquare(f_obs=e_votes_s, f_exp=e_votes_r)\n",
    "# data = pd.DataFrame({\n",
    "#     \"Evotes_results\": e_votes_r,\n",
    "#     \"Evotes_survey\": e_votes_s\n",
    "# })"
   ]
  },
  {
   "cell_type": "markdown",
   "metadata": {},
   "source": [
    "### (B) \n",
    "\n",
    "Is there a significant difference between political preferences of the voters depending on their demographic attributes recorded inthe survey (that is, age, gender, education level...)?"
   ]
  },
  {
   "cell_type": "code",
   "execution_count": 105,
   "metadata": {},
   "outputs": [
    {
     "name": "stdout",
     "output_type": "stream",
     "text": [
      "Chi-square Test Results for Gender vs Political Preference\n",
      "Chi-square statistic: 1.0948595723439902\n",
      "p-value: 0.578434602059867\n",
      "\n",
      "Chi-square Test Results for Education vs Political Preference\n",
      "Chi-square statistic: 34.70051433812302\n",
      "p-value: 0.0043666219362705665\n",
      "\n",
      "Chi-square Test Results for Age vs Political Preference\n",
      "Chi-square statistic: 130.03690118193933\n",
      "p-value: 0.5806961048843412\n"
     ]
    }
   ],
   "source": [
    "contingency_table_gender = pd.crosstab(survey_data['sex'], survey_data['party'])\n",
    "chi2, p_value, dof, expected = chi2_contingency(contingency_table_gender)\n",
    "print(\"Chi-square Test Results for Gender vs Political Preference\")\n",
    "print(\"Chi-square statistic:\", chi2)\n",
    "print(\"p-value:\", p_value)\n",
    "\n",
    "contingency_table_education = pd.crosstab(survey_data['education'], survey_data['party'])\n",
    "chi2, p_value, dof, expected = chi2_contingency(contingency_table_education)\n",
    "print(\"\\nChi-square Test Results for Education vs Political Preference\")\n",
    "print(\"Chi-square statistic:\", chi2)\n",
    "print(\"p-value:\", p_value)\n",
    "\n",
    "#transform date of birth to age\n",
    "survey_data['age'] = 2024 - survey_data['dob'].dt.year\n",
    "contingency_table_age = pd.crosstab(survey_data['age'], survey_data['party'])\n",
    "chi2, p_value, dof, expected = chi2_contingency(contingency_table_age)\n",
    "print(\"\\nChi-square Test Results for Age vs Political Preference\")\n",
    "print(\"Chi-square statistic:\", chi2)\n",
    "print(\"p-value:\", p_value)\n"
   ]
  },
  {
   "cell_type": "code",
   "execution_count": 115,
   "metadata": {},
   "outputs": [
    {
     "name": "stdout",
     "output_type": "stream",
     "text": [
      "Chi-square Test Results for sex vs party\n",
      "Chi-square statistic: 1.0948595723439902\n",
      "p-value: 0.578434602059867\n"
     ]
    }
   ],
   "source": [
    "def chi2(data_attribute, data_preference):\n",
    "    contingency_table = pd.crosstab(data_attribute, data_preference)\n",
    "    chi2, p_value, dof, expected = chi2_contingency(contingency_table)\n",
    "    print(f\"Chi-square Test Results for {data_attribute.name} vs {data_preference.name}\")\n",
    "    print(\"Chi-square statistic:\", chi2)\n",
    "    print(\"p-value:\", p_value)\n",
    "\n",
    "chi2(survey_data['sex'], survey_data['party'])"
   ]
  },
  {
   "cell_type": "markdown",
   "metadata": {},
   "source": [
    "### (C) \n",
    "\n",
    "Is there a significant difference between voter’s choice of the voting channel (that is, if they decide to vote either online or inperson) depending on their demographic attributes recorded in the survey?"
   ]
  },
  {
   "cell_type": "code",
   "execution_count": 19,
   "metadata": {},
   "outputs": [
    {
     "name": "stdout",
     "output_type": "stream",
     "text": [
      "Chi-square Test Results for Gender vs Voting Channel\n",
      "Chi-square statistic: 2.6379263431645796\n",
      "p-value: 0.10433965288985117\n",
      "\n",
      "Chi-square Test Results for Education vs Voting Channel\n",
      "Chi-square statistic: 8.784052225187445\n",
      "p-value: 0.36083942749998765\n",
      "\n",
      "Chi-square Test Results for Age vs Voting Channel\n",
      "Chi-square statistic: 63.97738150893831\n",
      "p-value: 0.5821109942082197\n"
     ]
    }
   ],
   "source": [
    "\n",
    "# Example: Chi-square test for voting channel by gender\n",
    "contingency_table_channel_gender = pd.crosstab(survey_data['sex'], survey_data['evote'])\n",
    "chi2, p_value, dof, expected = chi2_contingency(contingency_table_channel_gender)\n",
    "print(\"Chi-square Test Results for Gender vs Voting Channel\")\n",
    "print(\"Chi-square statistic:\", chi2)\n",
    "print(\"p-value:\", p_value)\n",
    "\n",
    "contingency_table_channel_education = pd.crosstab(survey_data['education'], survey_data['evote'])\n",
    "chi2, p_value, dof, expected = chi2_contingency(contingency_table_channel_education)\n",
    "print(\"\\nChi-square Test Results for Education vs Voting Channel\")\n",
    "print(\"Chi-square statistic:\", chi2)\n",
    "print(\"p-value:\", p_value)\n",
    "\n",
    "contingency_table_channel_age = pd.crosstab(survey_data['age'], survey_data['evote'])\n",
    "chi2, p_value, dof, expected = chi2_contingency(contingency_table_channel_age)\n",
    "print(\"\\nChi-square Test Results for Age vs Voting Channel\")\n",
    "print(\"Chi-square statistic:\", chi2)\n",
    "print(\"p-value:\", p_value)"
   ]
  }
 ],
 "metadata": {
  "kernelspec": {
   "display_name": "Python 3",
   "language": "python",
   "name": "python3"
  },
  "language_info": {
   "codemirror_mode": {
    "name": "ipython",
    "version": 3
   },
   "file_extension": ".py",
   "mimetype": "text/x-python",
   "name": "python",
   "nbconvert_exporter": "python",
   "pygments_lexer": "ipython3",
   "version": "3.11.3"
  }
 },
 "nbformat": 4,
 "nbformat_minor": 2
}
