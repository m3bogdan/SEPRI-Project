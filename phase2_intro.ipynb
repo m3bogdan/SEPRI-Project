{
 "cells": [
  {
   "cell_type": "code",
   "execution_count": 88,
   "metadata": {},
   "outputs": [],
   "source": [
    "import pandas as pd"
   ]
  },
  {
   "cell_type": "code",
   "execution_count": 89,
   "metadata": {},
   "outputs": [
    {
     "name": "stderr",
     "output_type": "stream",
     "text": [
      "c:\\Users\\obe\\anaconda3\\lib\\site-packages\\openpyxl\\styles\\stylesheet.py:237: UserWarning: Workbook contains no default style, apply openpyxl's default\n",
      "  warn(\"Workbook contains no default style, apply openpyxl's default\")\n",
      "c:\\Users\\obe\\anaconda3\\lib\\site-packages\\openpyxl\\styles\\stylesheet.py:237: UserWarning: Workbook contains no default style, apply openpyxl's default\n",
      "  warn(\"Workbook contains no default style, apply openpyxl's default\")\n",
      "c:\\Users\\obe\\anaconda3\\lib\\site-packages\\openpyxl\\styles\\stylesheet.py:237: UserWarning: Workbook contains no default style, apply openpyxl's default\n",
      "  warn(\"Workbook contains no default style, apply openpyxl's default\")\n"
     ]
    }
   ],
   "source": [
    "# global recoding on age and pram on sex \n",
    "anon_data_global_recoding_pram = pd.read_excel(\"anon_data/anon_data_global_recoding_pram.xlsx\")\n",
    "# global recoding on age, global recoding on marital status \n",
    "anon_data_global2 = pd.read_excel(\"anon_data/anon_data_global2.xlsx\")\n",
    "# global recodign on age, global recoding on marital status, and pram on sex \n",
    "anon_data_global2_pram = pd.read_excel(\"anon_data/anon_data_global2_pram.xlsx\")\n",
    "\n",
    "results_data = pd.read_excel(\"data/public_data_resultsE.xlsx\")\n",
    "pub_data_register = pd.read_excel('data/public_data_registerE.xlsx')"
   ]
  },
  {
   "cell_type": "markdown",
   "metadata": {},
   "source": [
    "#### Testing if the anonymised datasets can be de-anonymised "
   ]
  },
  {
   "cell_type": "code",
   "execution_count": 90,
   "metadata": {},
   "outputs": [],
   "source": [
    "quasi_identifiers1 = [\"age_group\", \"citizenship\", \"marital_status\", \"zip\"]\n",
    "quasi_identifiers2 = [\"age_group\", \"citizenship\", \"marital_status\", \"zip\", \"sex\"]\n",
    "\n",
    "def k_anonymity_violations(data, quasi_identifiers, k_levels=[2, 3, 5]):\n",
    "    # Group by quasi-identifiers to get the counts for each unique combination\n",
    "    grouped = data.groupby(quasi_identifiers).size().reset_index(name='count')\n",
    "    \n",
    "    # Dictionary to store the number of rows violating each k-level\n",
    "    violations = {}\n",
    "    total_rows = len(data)\n",
    "\n",
    "    for k in k_levels:\n",
    "        # Count rows where the group size is less than k\n",
    "        violating_rows = grouped[grouped['count'] < k]['count'].sum()\n",
    "        # Store as a percentage for comparison with R's output\n",
    "        violations[k] = violating_rows, (violating_rows / total_rows) * 100\n",
    "\n",
    "    return violations"
   ]
  },
  {
   "cell_type": "code",
   "execution_count": 91,
   "metadata": {},
   "outputs": [],
   "source": [
    "def identify_k_anonymity_violations(data, quasi_identifiers, k=2):\n",
    "    # Group by quasi-identifiers to count each unique combination\n",
    "    grouped = data.groupby(quasi_identifiers).size().reset_index(name='count')\n",
    "    \n",
    "    # Filter for combinations where the count is less than k (i.e., violate k-anonymity)\n",
    "    violating_combinations = grouped[grouped['count'] < k]\n",
    "    \n",
    "    # Merge to find the original rows that match these violating combinations\n",
    "    violations = data.merge(violating_combinations.drop(columns='count'), on=quasi_identifiers, how='inner')\n",
    "    \n",
    "    return violations"
   ]
  },
  {
   "cell_type": "markdown",
   "metadata": {},
   "source": [
    "Global recoding on age, pram on sex"
   ]
  },
  {
   "cell_type": "code",
   "execution_count": 92,
   "metadata": {},
   "outputs": [],
   "source": [
    "k_anonymity_violations(anon_data_global_recoding_pram, quasi_identifiers1)\n",
    "vioalting_rows_global1_pram = identify_k_anonymity_violations(anon_data_global_recoding_pram, quasi_identifiers1)"
   ]
  },
  {
   "cell_type": "markdown",
   "metadata": {},
   "source": [
    "Global recoding on age, global recoding on marital status "
   ]
  },
  {
   "cell_type": "code",
   "execution_count": 93,
   "metadata": {},
   "outputs": [],
   "source": [
    "k_anonymity_violations(anon_data_global2, quasi_identifiers1)\n",
    "vioalting_rows_global2 = identify_k_anonymity_violations(anon_data_global2, quasi_identifiers1)"
   ]
  },
  {
   "cell_type": "code",
   "execution_count": 94,
   "metadata": {},
   "outputs": [],
   "source": [
    "k_anonymity_violations(anon_data_global2_pram, quasi_identifiers1)\n",
    "vioalting_rows_global2_pram = identify_k_anonymity_violations(anon_data_global2_pram, quasi_identifiers1)"
   ]
  }
 ],
 "metadata": {
  "kernelspec": {
   "display_name": "Python 3",
   "language": "python",
   "name": "python3"
  },
  "language_info": {
   "codemirror_mode": {
    "name": "ipython",
    "version": 3
   },
   "file_extension": ".py",
   "mimetype": "text/x-python",
   "name": "python",
   "nbconvert_exporter": "python",
   "pygments_lexer": "ipython3",
   "version": "3.10.7"
  }
 },
 "nbformat": 4,
 "nbformat_minor": 2
}
