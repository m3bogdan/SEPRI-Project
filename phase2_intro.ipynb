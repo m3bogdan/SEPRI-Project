{
 "cells": [
  {
   "cell_type": "code",
   "execution_count": 36,
   "metadata": {},
   "outputs": [],
   "source": [
    "import pandas as pd"
   ]
  },
  {
   "cell_type": "code",
   "execution_count": 37,
   "metadata": {},
   "outputs": [],
   "source": [
    "# global recoding on age and pram on sex \n",
    "anon_data_global_recoding_pram = pd.read_excel(\"anon_data/anon_data_global_recoding_pram.xlsx\")\n",
    "# global recoding on age, global recoding on marital status \n",
    "anon_data_global2 = pd.read_excel(\"anon_data/anon_data_global2.xlsx\")\n",
    "# global recodign on age, global recoding on marital status, and pram on sex \n",
    "anon_data_global2_pram = pd.read_excel(\"anon_data/anon_data_global2_pram.xlsx\")\n",
    "\n",
    "results_data = pd.read_excel(\"data/public_data_resultsE.xlsx\")\n",
    "pub_data_register = pd.read_excel('data/public_data_registerE.xlsx')"
   ]
  },
  {
   "cell_type": "markdown",
   "metadata": {},
   "source": [
    "#### Testing if the anonymised datasets can be de-anonymised "
   ]
  },
  {
   "cell_type": "code",
   "execution_count": 38,
   "metadata": {},
   "outputs": [],
   "source": [
    "quasi_identifiers = [\"zip\", \"age_group\", \"citizenship\", \"marital_status\"]\n",
    "\n",
    "def k_anonymity(data, quasi_identifiers ): \n",
    "    # grouping by the quasi-identifiers to get the number of records with each unique combination \n",
    "    grouped = data.groupby(quasi_identifiers).size().reset_index(name='count')\n",
    "    # finding how many of each value (number of records) there are i.e. how many quasi-identifiers \n",
    "    # have 1,2,3,.. records with that specific combination \n",
    "    counts = grouped['count'].value_counts()\n",
    "    # computing the cumulative counts i.e. the number of violations of each k for k-anonymity \n",
    "    cumulative_counts = counts.sort_index().cumsum()\n",
    "    return cumulative_counts"
   ]
  },
  {
   "cell_type": "markdown",
   "metadata": {},
   "source": [
    "Global recoding on age, pram on sex"
   ]
  },
  {
   "cell_type": "code",
   "execution_count": 39,
   "metadata": {},
   "outputs": [
    {
     "data": {
      "text/plain": [
       "1     30\n",
       "2     47\n",
       "3     53\n",
       "4     60\n",
       "5     65\n",
       "6     67\n",
       "7     69\n",
       "8     70\n",
       "9     72\n",
       "13    73\n",
       "Name: count, dtype: int64"
      ]
     },
     "execution_count": 39,
     "metadata": {},
     "output_type": "execute_result"
    }
   ],
   "source": [
    "k_anonymity(anon_data_global_recoding_pram, quasi_identifiers)"
   ]
  },
  {
   "cell_type": "markdown",
   "metadata": {},
   "source": [
    "Global recoding on age, global recoding on marital status "
   ]
  },
  {
   "cell_type": "code",
   "execution_count": 40,
   "metadata": {},
   "outputs": [
    {
     "data": {
      "text/plain": [
       "1     30\n",
       "2     47\n",
       "3     53\n",
       "4     60\n",
       "5     65\n",
       "6     67\n",
       "7     69\n",
       "8     70\n",
       "9     72\n",
       "13    73\n",
       "Name: count, dtype: int64"
      ]
     },
     "execution_count": 40,
     "metadata": {},
     "output_type": "execute_result"
    }
   ],
   "source": [
    "k_anonymity(anon_data_global2, quasi_identifiers)"
   ]
  },
  {
   "cell_type": "code",
   "execution_count": 41,
   "metadata": {},
   "outputs": [
    {
     "data": {
      "text/plain": [
       "1     30\n",
       "2     47\n",
       "3     53\n",
       "4     60\n",
       "5     65\n",
       "6     67\n",
       "7     69\n",
       "8     70\n",
       "9     72\n",
       "13    73\n",
       "Name: count, dtype: int64"
      ]
     },
     "execution_count": 41,
     "metadata": {},
     "output_type": "execute_result"
    }
   ],
   "source": [
    "k_anonymity(anon_data_global2_pram, quasi_identifiers)"
   ]
  }
 ],
 "metadata": {
  "kernelspec": {
   "display_name": "base",
   "language": "python",
   "name": "python3"
  },
  "language_info": {
   "codemirror_mode": {
    "name": "ipython",
    "version": 3
   },
   "file_extension": ".py",
   "mimetype": "text/x-python",
   "name": "python",
   "nbconvert_exporter": "python",
   "pygments_lexer": "ipython3",
   "version": "3.10.9"
  }
 },
 "nbformat": 4,
 "nbformat_minor": 2
}
